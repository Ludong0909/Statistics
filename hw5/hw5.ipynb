{
 "cells": [
  {
   "cell_type": "markdown",
   "metadata": {},
   "source": [
    "<font face='serif' size=4>\n",
    "<span style=\"line-height: 1.25;\">\n",
    "\n",
    "# HW5 for Statistics with Meteorological Application\n",
    "---\n",
    "Student: 林之然 (B11209005, 大氣二), 蔡知諺（B11209014, 大氣二）"
   ]
  },
  {
   "cell_type": "markdown",
   "metadata": {},
   "source": [
    "<font face='serif' size=4>\n",
    "<span style=\"line-height: 1.25;\">\n",
    "\n",
    "### 5.1 \n",
    "如果我們已知2000年台北測站的的平均降雨量是5 mm/day， 我們想要知道2000年的平均降雨量與氣候平均是否有差異?\n",
    "- 請問你的虛無假設與對立假設應該如何設定？\n"
   ]
  },
  {
   "cell_type": "markdown",
   "metadata": {},
   "source": [
    "<font face='serif' size=4>\n",
    "<span style=\"line-height: 1.25;\">\n",
    "\n",
    "#### Answer\n",
    "\n",
    "- **虛無假設（$\\rm H_0$）：** 2000 年台北測站的平均降雨量與氣候平均降雨量相同 $\\bar{X}-\\mu=0$。\n",
    "- **對立假設（$\\rm H_1$）：** 2000 年台北測站的平均降雨量氣候平均降雨量不同 $\\bar{X}-\\mu\\neq0$。\n"
   ]
  },
  {
   "cell_type": "markdown",
   "metadata": {},
   "source": [
    "<font face='serif' size=4>\n",
    "<span style=\"line-height: 1.25;\">\n",
    "\n",
    "### 5.2 \n",
    "判斷近15年（1999~2013）的全球平均溫度是否顯著大於上世紀初15年 (1901~1915) 的平均溫度? \n"
   ]
  },
  {
   "cell_type": "markdown",
   "metadata": {},
   "source": [
    "<font face='serif' size=4>\n",
    "<span style=\"line-height: 1.25;\">\n",
    "\n",
    "#### Processing data"
   ]
  },
  {
   "cell_type": "code",
   "execution_count": 17,
   "metadata": {},
   "outputs": [],
   "source": [
    "import pandas as pd\n",
    "from scipy import stats\n",
    "\n",
    "# Load the data\n",
    "data = pd.read_csv('./TS.txt', header=None, names=['Temperature'])\n",
    "\n",
    "# Dimensions\n",
    "years = 113  # Total years\n",
    "months_per_year = 12  # Months in a year\n",
    "\n",
    "# Reshape the data to have 113 rows (one for each year) and 12 columns (one for each month)\n",
    "data_reshaped = data.values.reshape(years, months_per_year)\n",
    "\n",
    "# Calculate the yearly averages\n",
    "yearly_averages = data_reshaped.mean(axis=1)\n",
    "\n",
    "# Since the data is from 1901 to 2013, create a range of years for reference\n",
    "years_range = pd.date_range(start='1901', periods=years, freq='Y').year\n",
    "\n",
    "# Create a DataFrame with the yearly averages\n",
    "yearly_data = pd.DataFrame({'Year': years_range, 'AvgTemperature': yearly_averages})\n",
    "\n",
    "# Extract the first 15 years (1901-1915) and the last 15 years (1999-2013) for comparison\n",
    "early_period = yearly_data[(yearly_data['Year'] >= 1901) & (yearly_data['Year'] <= 1915)]\n",
    "recent_period = yearly_data[(yearly_data['Year'] >= 1999) & (yearly_data['Year'] <= 2013)]"
   ]
  },
  {
   "cell_type": "markdown",
   "metadata": {},
   "source": [
    "<font face='serif' size=4>\n",
    "<span style=\"line-height: 1.25;\">\n",
    "\n",
    "#### Calculate mean value"
   ]
  },
  {
   "cell_type": "code",
   "execution_count": 18,
   "metadata": {},
   "outputs": [
    {
     "name": "stdout",
     "output_type": "stream",
     "text": [
      "Early mean  (1901~1915): 11.17 °C\n",
      "Recent mean (1999~2013): 12.08 °C\n"
     ]
    }
   ],
   "source": [
    "# Calculate the means for the early and recent periods\n",
    "early_mean = early_period['AvgTemperature'].mean()\n",
    "recent_mean = recent_period['AvgTemperature'].mean()\n",
    "\n",
    "print(f\"Early mean  (1901~1915): {early_mean :.2f} °C\")\n",
    "print(f\"Recent mean (1999~2013): {recent_mean :.2f} °C\")"
   ]
  },
  {
   "cell_type": "markdown",
   "metadata": {},
   "source": [
    "<font face='serif' size=4>\n",
    "<span style=\"line-height: 1.25;\">\n",
    "\n",
    "#### Perform t-test and calculate p-value"
   ]
  },
  {
   "cell_type": "code",
   "execution_count": 19,
   "metadata": {},
   "outputs": [
    {
     "name": "stdout",
     "output_type": "stream",
     "text": [
      "P value = 1.0937031959169335e-19\n"
     ]
    }
   ],
   "source": [
    "# Perform a two-sample t-test\n",
    "t_stat, p_value = stats.ttest_ind(recent_period['AvgTemperature'], early_period['AvgTemperature'])\n",
    "\n",
    "print(f\"P value = {p_value}\")"
   ]
  },
  {
   "cell_type": "markdown",
   "metadata": {},
   "source": [
    "<font face='serif' size=4>\n",
    "<span style=\"line-height: 1.25;\">\n",
    "\n",
    "#### Discussion\n",
    "\n",
    "Since p value  $\\approx 1 \\cdot 10^{-19}$ which is much lower than 0.05 siganificant level, we trust the recent average temp. is higher than the early average temp.. "
   ]
  },
  {
   "cell_type": "markdown",
   "metadata": {},
   "source": [
    "<font face='serif' size=4>\n",
    "<span style=\"line-height: 1.25;\">\n",
    "\n",
    "### 5.3 \n",
    "在大氣的研究領域中選一本期刊並討論其使用假設檢定的目的以及是否有問題"
   ]
  },
  {
   "cell_type": "markdown",
   "metadata": {},
   "source": [
    "<font face='serif' size=4>\n",
    "<span style=\"line-height: 1.25;\">\n",
    "\n",
    "文章《Hypothesis Tests for Evaluating Numerical Precipitation Forecasts》由T. Hamill於1999年在《Weather and Forecasting》期刊上發表，討論了使用傳統假設檢定來評估數值降水預報之間的差異【[(Hamill, 1999)](https://consensus.app/papers/hypothesis-tests-evaluating-numerical-precipitation-hamill/3d3224fc19325ee1a41f02cd16052314/?utm_source=chatgpt)】。該研究主要因為在比較競爭預報時，由於空間相關性和錯誤的非正態性，很少進行正式的假設檢定。研究中探索了解決這些困難的可能方法。\n",
    "\n",
    "#### 研究方法\n",
    "- **數據集**：評估了兩組競爭的網格降水預報，分別來自操作性天氣預報模型和一組來自模型輸出統計和預報集合的競爭概率量化降水預報。\n",
    "- **假設檢定方法**：采用了配對t檢定、非參數Wilcoxon符號等級檢定和兩種重抽樣檢定。當測試非概率預報的威脅分數時，更複雜的重抽樣檢定方法被認為是最合適的。\n",
    "\n",
    "#### 研究發現\n",
    "Hamill的研究表明，在進行降水預報的評估時，傳統的假設檢定方法可能因為數據的空間相關性和非正態性而難以應用。然而，通過創新的方法，如重抽樣技術，可以克服這些挑戰，從而對競爭預報進行有效的比較和評估。\n",
    "\n",
    "#### 結論\n",
    "Hamill的工作展示了在評估數值降水預報中應用傳統假設檢定方法的潛力和挑戰。這項研究不僅強調了適當統計方法的選擇對於精確評估預報性能的重要性，同時也展示了在面對數據分析的困難時，如何運用創新方法來解決問題。"
   ]
  },
  {
   "cell_type": "markdown",
   "metadata": {},
   "source": [
    "<font face='serif' size=4>\n",
    "<span style=\"line-height: 1.25;\">\n",
    "\n",
    "### 5.4 Read stories"
   ]
  }
 ],
 "metadata": {
  "kernelspec": {
   "display_name": "base",
   "language": "python",
   "name": "python3"
  },
  "language_info": {
   "codemirror_mode": {
    "name": "ipython",
    "version": 3
   },
   "file_extension": ".py",
   "mimetype": "text/x-python",
   "name": "python",
   "nbconvert_exporter": "python",
   "pygments_lexer": "ipython3",
   "version": "3.11.7"
  }
 },
 "nbformat": 4,
 "nbformat_minor": 2
}
