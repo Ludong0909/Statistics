{
 "cells": [
  {
   "cell_type": "markdown",
   "metadata": {},
   "source": [
    "<font face='serif' size=4>\n",
    "<span style=\"line-height: 1.25;\">\n",
    "\n",
    "# HW5 for Statistics with Meteorological Application\n",
    "---\n",
    "Student: 林之然 (B11209005, 大氣二), 蔡知諺（B11209014, 大氣二）"
   ]
  },
  {
   "cell_type": "markdown",
   "metadata": {},
   "source": [
    "<font face='serif' size=4>\n",
    "<span style=\"line-height: 1.25;\">\n",
    "\n",
    "### 5.1 \n",
    "如果我們已知2000年台北測站的的平均降雨量是5 mm/day， 我們想要知道2000年的平均降雨量與氣候平均是否有差異?\n",
    "- 請問你的虛無假設與對立假設應該如何設定？\n"
   ]
  },
  {
   "cell_type": "markdown",
   "metadata": {},
   "source": [
    "<font face='serif' size=4>\n",
    "<span style=\"line-height: 1.25;\">\n",
    "\n",
    "#### Answer\n",
    "\n",
    "- **虛無假設（$\\rm H_0$）：** 2000 年台北測站的平均降雨量等於氣候平均降雨量。\n",
    "- **對立假設（$\\rm H_1$）：** 2000 年台北測站的平均降雨量不等於氣候平均降雨量。\n"
   ]
  },
  {
   "cell_type": "markdown",
   "metadata": {},
   "source": [
    "<font face='serif' size=4>\n",
    "<span style=\"line-height: 1.25;\">\n",
    "\n",
    "### 5.2 \n",
    "判斷近15年（1999~2013）的全球平均溫度是否顯著大於上世紀初15年(1901~1915)的平均溫度? \n"
   ]
  },
  {
   "cell_type": "markdown",
   "metadata": {},
   "source": [
    "<font face='serif' size=4>\n",
    "<span style=\"line-height: 1.25;\">\n",
    "\n",
    "#### Processing data"
   ]
  },
  {
   "cell_type": "code",
   "execution_count": 17,
   "metadata": {},
   "outputs": [],
   "source": [
    "import pandas as pd\n",
    "from scipy import stats\n",
    "\n",
    "# Load the data\n",
    "data = pd.read_csv('./TS.txt', header=None, names=['Temperature'])\n",
    "\n",
    "# Dimensions\n",
    "years = 113  # Total years\n",
    "months_per_year = 12  # Months in a year\n",
    "\n",
    "# Reshape the data to have 113 rows (one for each year) and 12 columns (one for each month)\n",
    "data_reshaped = data.values.reshape(years, months_per_year)\n",
    "\n",
    "# Calculate the yearly averages\n",
    "yearly_averages = data_reshaped.mean(axis=1)\n",
    "\n",
    "# Since the data is from 1901 to 2013, create a range of years for reference\n",
    "years_range = pd.date_range(start='1901', periods=years, freq='Y').year\n",
    "\n",
    "# Create a DataFrame with the yearly averages\n",
    "yearly_data = pd.DataFrame({'Year': years_range, 'AvgTemperature': yearly_averages})\n",
    "\n",
    "# Extract the first 15 years (1901-1915) and the last 15 years (1999-2013) for comparison\n",
    "early_period = yearly_data[(yearly_data['Year'] >= 1901) & (yearly_data['Year'] <= 1915)]\n",
    "recent_period = yearly_data[(yearly_data['Year'] >= 1999) & (yearly_data['Year'] <= 2013)]"
   ]
  },
  {
   "cell_type": "markdown",
   "metadata": {},
   "source": [
    "<font face='serif' size=4>\n",
    "<span style=\"line-height: 1.25;\">\n",
    "\n",
    "#### Calculate mean value"
   ]
  },
  {
   "cell_type": "code",
   "execution_count": 18,
   "metadata": {},
   "outputs": [
    {
     "name": "stdout",
     "output_type": "stream",
     "text": [
      "Early mean  (1901~1915): 11.17 °C\n",
      "Recent mean (1999~2013): 12.08 °C\n"
     ]
    }
   ],
   "source": [
    "# Calculate the means for the early and recent periods\n",
    "early_mean = early_period['AvgTemperature'].mean()\n",
    "recent_mean = recent_period['AvgTemperature'].mean()\n",
    "\n",
    "print(f\"Early mean  (1901~1915): {early_mean :.2f} °C\")\n",
    "print(f\"Recent mean (1999~2013): {recent_mean :.2f} °C\")"
   ]
  },
  {
   "cell_type": "markdown",
   "metadata": {},
   "source": [
    "<font face='serif' size=4>\n",
    "<span style=\"line-height: 1.25;\">\n",
    "\n",
    "#### Perform t-test and calculate p-value"
   ]
  },
  {
   "cell_type": "code",
   "execution_count": 19,
   "metadata": {},
   "outputs": [
    {
     "name": "stdout",
     "output_type": "stream",
     "text": [
      "P value = 1.0937031959169335e-19\n"
     ]
    }
   ],
   "source": [
    "# Perform a two-sample t-test\n",
    "t_stat, p_value = stats.ttest_ind(recent_period['AvgTemperature'], early_period['AvgTemperature'])\n",
    "\n",
    "print(f\"P value = {p_value}\")"
   ]
  },
  {
   "cell_type": "markdown",
   "metadata": {},
   "source": [
    "<font face='serif' size=4>\n",
    "<span style=\"line-height: 1.25;\">\n",
    "\n",
    "#### Discussion\n",
    "\n",
    "Since p value  $\\approx 1 \\cdot 10^{-19}$ which is much lower than 0.05 siganificant level, we trust the recent average temp. is higher than the early average temp.. "
   ]
  },
  {
   "cell_type": "markdown",
   "metadata": {},
   "source": [
    "<font face='serif' size=4>\n",
    "<span style=\"line-height: 1.25;\">\n",
    "\n",
    "### 5.3 \n",
    "在大氣的研究領域中選一本期刊並討論其使用假設檢定的目的以及是否有問題"
   ]
  },
  {
   "cell_type": "markdown",
   "metadata": {},
   "source": [
    "<font face='serif' size=4>\n",
    "<span style=\"line-height: 1.25;\">\n",
    "\n",
    "### 5.4 Read stories"
   ]
  }
 ],
 "metadata": {
  "kernelspec": {
   "display_name": "base",
   "language": "python",
   "name": "python3"
  },
  "language_info": {
   "codemirror_mode": {
    "name": "ipython",
    "version": 3
   },
   "file_extension": ".py",
   "mimetype": "text/x-python",
   "name": "python",
   "nbconvert_exporter": "python",
   "pygments_lexer": "ipython3",
   "version": "3.11.7"
  }
 },
 "nbformat": 4,
 "nbformat_minor": 2
}
