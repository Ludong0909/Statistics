{
 "cells": [
  {
   "cell_type": "markdown",
   "metadata": {},
   "source": [
    "<font face='serif' size=4>\n",
    "<span style=\"line-height: 1.25;\">\n",
    "\n",
    "# HW5 for Statistics with Meteorological Application\n",
    "---\n",
    "Student: 林之然 (B11209005, 大氣二), 蔡知諺（B11209014, 大氣二）"
   ]
  },
  {
   "cell_type": "markdown",
   "metadata": {},
   "source": [
    "<font face='serif' size=4>\n",
    "<span style=\"line-height: 1.25;\">\n",
    "\n",
    "### 5.1 \n",
    "如果我們已知2000年台北測站的的平均降雨量是5 mm/day， 我們想要知道2000年的平均降雨量與氣候平均是否有差異?\n",
    "- 請問你的虛無假設與對立假設應該如何設定？\n"
   ]
  },
  {
   "cell_type": "markdown",
   "metadata": {},
   "source": [
    "<font face='serif' size=4>\n",
    "<span style=\"line-height: 1.25;\">\n",
    "\n",
    "#### Answer\n",
    "\n",
    "- **虛無假設（$\\rm H_0$）：** 2000 年台北測站的平均降雨量等於氣候平均降雨量。\n",
    "- **對立假設（$\\rm H_1$）：** 2000 年台北測站的平均降雨量不等於氣候平均降雨量。\n"
   ]
  },
  {
   "cell_type": "markdown",
   "metadata": {},
   "source": [
    "<font face='serif' size=4>\n",
    "<span style=\"line-height: 1.25;\">\n",
    "\n",
    "### 5.2 \n",
    "判斷近15年（1999~2013）的全球平均溫度是否顯著大於上世紀初15年(1901~1915)的平均溫度? \n"
   ]
  },
  {
   "cell_type": "markdown",
   "metadata": {},
   "source": [
    "<font face='serif' size=4>\n",
    "<span style=\"line-height: 1.25;\">\n",
    "\n",
    "#### Processing data"
   ]
  },
  {
   "cell_type": "code",
   "execution_count": 17,
   "metadata": {},
   "outputs": [],
   "source": [
    "import pandas as pd\n",
    "from scipy import stats\n",
    "\n",
    "# Load the data\n",
    "data = pd.read_csv('./TS.txt', header=None, names=['Temperature'])\n",
    "\n",
    "# Dimensions\n",
    "years = 113  # Total years\n",
    "months_per_year = 12  # Months in a year\n",
    "\n",
    "# Reshape the data to have 113 rows (one for each year) and 12 columns (one for each month)\n",
    "data_reshaped = data.values.reshape(years, months_per_year)\n",
    "\n",
    "# Calculate the yearly averages\n",
    "yearly_averages = data_reshaped.mean(axis=1)\n",
    "\n",
    "# Since the data is from 1901 to 2013, create a range of years for reference\n",
    "years_range = pd.date_range(start='1901', periods=years, freq='Y').year\n",
    "\n",
    "# Create a DataFrame with the yearly averages\n",
    "yearly_data = pd.DataFrame({'Year': years_range, 'AvgTemperature': yearly_averages})\n",
    "\n",
    "# Extract the first 15 years (1901-1915) and the last 15 years (1999-2013) for comparison\n",
    "early_period = yearly_data[(yearly_data['Year'] >= 1901) & (yearly_data['Year'] <= 1915)]\n",
    "recent_period = yearly_data[(yearly_data['Year'] >= 1999) & (yearly_data['Year'] <= 2013)]"
   ]
  },
  {
   "cell_type": "markdown",
   "metadata": {},
   "source": [
    "<font face='serif' size=4>\n",
    "<span style=\"line-height: 1.25;\">\n",
    "\n",
    "#### Calculate mean value"
   ]
  },
  {
   "cell_type": "code",
   "execution_count": 18,
   "metadata": {},
   "outputs": [
    {
     "name": "stdout",
     "output_type": "stream",
     "text": [
      "Early mean  (1901~1915): 11.17 °C\n",
      "Recent mean (1999~2013): 12.08 °C\n"
     ]
    }
   ],
   "source": [
    "# Calculate the means for the early and recent periods\n",
    "early_mean = early_period['AvgTemperature'].mean()\n",
    "recent_mean = recent_period['AvgTemperature'].mean()\n",
    "\n",
    "print(f\"Early mean  (1901~1915): {early_mean :.2f} °C\")\n",
    "print(f\"Recent mean (1999~2013): {recent_mean :.2f} °C\")"
   ]
  },
  {
   "cell_type": "markdown",
   "metadata": {},
   "source": [
    "<font face='serif' size=4>\n",
    "<span style=\"line-height: 1.25;\">\n",
    "\n",
    "#### Perform t-test and calculate p-value"
   ]
  },
  {
   "cell_type": "code",
   "execution_count": 19,
   "metadata": {},
   "outputs": [
    {
     "name": "stdout",
     "output_type": "stream",
     "text": [
      "P value = 1.0937031959169335e-19\n"
     ]
    }
   ],
   "source": [
    "# Perform a two-sample t-test\n",
    "t_stat, p_value = stats.ttest_ind(recent_period['AvgTemperature'], early_period['AvgTemperature'])\n",
    "\n",
    "print(f\"P value = {p_value}\")"
   ]
  },
  {
   "cell_type": "markdown",
   "metadata": {},
   "source": [
    "<font face='serif' size=4>\n",
    "<span style=\"line-height: 1.25;\">\n",
    "\n",
    "#### Discussion\n",
    "\n",
    "Since p value  $\\approx 1 \\cdot 10^{-19}$ which is much lower than 0.05 siganificant level, we trust the recent average temp. is higher than the early average temp.. "
   ]
  },
  {
   "cell_type": "markdown",
   "metadata": {},
   "source": [
    "<font face='serif' size=4>\n",
    "<span style=\"line-height: 1.25;\">\n",
    "\n",
    "### 5.3 \n",
    "在大氣的研究領域中選一本期刊並討論其使用假設檢定的目的以及是否有問題"
   ]
  },
  {
   "cell_type": "markdown",
   "metadata": {},
   "source": [
    "<font face='serif' size=4>\n",
    "<span style=\"line-height: 1.25;\">\n",
    "\n",
    "在大氣科學領域，有一篇論文《Nonparametric Hypothesis Testing for a Spatial Signal》由Xiaotong Shen、Hsin-Cheng Huang、Noel Cressie於2002年發表，該研究使用了非參數假設檢定來探討空間信號的存在【[(Shen, Huang, & Cressie, 2002)](https://consensus.app/papers/hypothesis-testing-spatial-signal-shen/7eedda51fb2c5f698a309a3b23b0f241/?utm_source=chatgpt)】。該研究中，作者們採用了一種名為增強型假發現率（EFDR）的程序，此方法基於控制假發現率（FDR）和一種稱為廣義自由度的概念。與標準的FDR程序相比，EFDR通過在小波域更簡潔地表示模型，並使用基於廣義自由度標準的最佳假設選擇來減少被測試的假設數量。這種方法不僅能告訴我們是否存在空間信號，如果判定信號存在，還能指出其位置和大小。\n",
    "\n",
    "這項研究之所以選擇這樣的假設檢定方法，是因為它面臨的問題涉及大量假設的同時測試，尤其是在分析兩幅衛星圖像（分別在事件發生前後拍攝）以測試某一事件是否對環境無影響時。在這種情況下，傳統的檢定程序在控制整體第一型錯誤率時效能會隨著假設數量的增加而下降。因此，需要強有力的檢定程序來解決這個問題。\n",
    "\n",
    "然而，這種方法也有可能存在問題。首先，雖然EFDR能夠減少被測試的假設數量，但這種選擇性減少可能會忽略一些重要的假設，尤其是在預先不清楚哪些假設是關鍵的情況下。其次，雖然在小波域表示模型可以更簡潔，但這可能需要對數據進行轉換，這樣的轉換可能會引入額外的複雜性，並可能影響檢定結果的解釋。\n",
    "\n",
    "總的來說，Shen, Huang, & Cressie (2002)的研究展示了在大氣科學領域中使用非參數假設檢定進行空間信號檢測的創新方法，儘管這種方法提供了處理大量假設的有效途徑，但在實際應用中仍需謹慎考慮其潛在限制。"
   ]
  },
  {
   "cell_type": "markdown",
   "metadata": {},
   "source": [
    "<font face='serif' size=4>\n",
    "<span style=\"line-height: 1.25;\">\n",
    "\n",
    "### 5.4 Read stories"
   ]
  }
 ],
 "metadata": {
  "kernelspec": {
   "display_name": "base",
   "language": "python",
   "name": "python3"
  },
  "language_info": {
   "codemirror_mode": {
    "name": "ipython",
    "version": 3
   },
   "file_extension": ".py",
   "mimetype": "text/x-python",
   "name": "python",
   "nbconvert_exporter": "python",
   "pygments_lexer": "ipython3",
   "version": "3.11.7"
  }
 },
 "nbformat": 4,
 "nbformat_minor": 2
}
