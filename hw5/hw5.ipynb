{
 "cells": [
  {
   "cell_type": "markdown",
   "metadata": {},
   "source": [
    "<font face='serif' size=4>\n",
    "<span style=\"line-height: 1.25;\">\n",
    "\n",
    "# HW5 for Statistics with Meteorological Application\n",
    "---\n",
    "Student: 林之然 (B11209005, 大氣二), 蔡知諺（B11209014, 大氣二）"
   ]
  },
  {
   "cell_type": "markdown",
   "metadata": {},
   "source": [
    "<font face='serif' size=4>\n",
    "<span style=\"line-height: 1.25;\">\n",
    "\n",
    "### 5.1 \n",
    "如果我們已知2000年台北測站的的平均降雨量是5 mm/day， 我們想要知道2000年的平均降雨量與氣候平均是否有差異?\n",
    "- 請問你的虛無假設與對立假設應該如何設定？\n"
   ]
  },
  {
   "cell_type": "markdown",
   "metadata": {},
   "source": [
    "<font face='serif' size=4>\n",
    "<span style=\"line-height: 1.25;\">\n",
    "\n",
    "#### Answer\n",
    "\n",
    "- **虛無假設（$\\rm H_0$）：** 2000 年台北測站的平均降雨量與氣候平均降雨量相同 $\\bar{X}-\\mu=0$。\n",
    "- **對立假設（$\\rm H_1$）：** 2000 年台北測站的平均降雨量氣候平均降雨量不同 $\\bar{X}-\\mu\\neq0$。\n"
   ]
  },
  {
   "cell_type": "markdown",
   "metadata": {},
   "source": [
    "<font face='serif' size=4>\n",
    "<span style=\"line-height: 1.25;\">\n",
    "\n",
    "### 5.2 \n",
    "判斷近15年（1999~2013）的全球平均溫度是否顯著大於上世紀初15年 (1901~1915) 的平均溫度? \n"
   ]
  },
  {
   "cell_type": "markdown",
   "metadata": {},
   "source": [
    "<font face='serif' size=4>\n",
    "<span style=\"line-height: 1.25;\">\n",
    "\n",
    "#### Establishing Hypotheses\n",
    "\n",
    "In this case the null hypothesis and alternative hypothesis are:\n",
    "\n",
    "- Null Hypothesis: the global mean temperature over recent 15 years is lower than or equal to the mean temperature over early 20th century (1901-1915) $$H_0: \\bar{X}_{\\text{recent}} \\leq \\bar{X}_{\\text{Early 20th Century}}$$\n",
    "- Alternative Hypothesis: the the global mean temperature over recent 15 years is greater than the mean temperature over early 20th century (1901-1915) $$H_1: \\bar{X}_{\\text{recent}} > \\bar{X}_{\\text{Early 20th Century}}$$"
   ]
  },
  {
   "cell_type": "markdown",
   "metadata": {},
   "source": [
    "<font face='serif' size=4>\n",
    "<span style=\"line-height: 1.25;\">\n",
    "\n",
    "#### Processing data\n",
    "In the following code we load the data, calculate the yearly mean and pick out the two assigned samples (1901-1915, 1999-2013)."
   ]
  },
  {
   "cell_type": "code",
   "execution_count": 2,
   "metadata": {},
   "outputs": [],
   "source": [
    "import pandas as pd\n",
    "from scipy import stats\n",
    "\n",
    "# Load the data\n",
    "data = pd.read_csv('./TS.txt', header=None, names=['Temperature'])\n",
    "\n",
    "# Dimensions\n",
    "years = 113  # Total years\n",
    "months_per_year = 12  # Months in a year\n",
    "\n",
    "# Reshape the data to have 113 rows (one for each year) and 12 columns (one for each month)\n",
    "data_reshaped = data.values.reshape(years, months_per_year)\n",
    "\n",
    "# Calculate the yearly averages\n",
    "yearly_averages = data_reshaped.mean(axis=1)\n",
    "\n",
    "# Since the data is from 1901 to 2013, create a range of years for reference\n",
    "years_range = pd.date_range(start='1901', periods=years, freq='Y').year\n",
    "\n",
    "# Create a DataFrame with the yearly averages\n",
    "yearly_data = pd.DataFrame({'Year': years_range, 'AvgTemperature': yearly_averages})\n",
    "\n",
    "# Extract the first 15 years (1901-1915) and the last 15 years (1999-2013) for comparison\n",
    "early_period = yearly_data[(yearly_data['Year'] >= 1901) & (yearly_data['Year'] <= 1915)]\n",
    "recent_period = yearly_data[(yearly_data['Year'] >= 1999) & (yearly_data['Year'] <= 2013)]"
   ]
  },
  {
   "cell_type": "markdown",
   "metadata": {},
   "source": [
    "<font face='serif' size=4>\n",
    "<span style=\"line-height: 1.25;\">\n",
    "\n",
    "#### Calculate mean value\n",
    "\n",
    "In the following code we calculate the mean over the two sample. "
   ]
  },
  {
   "cell_type": "code",
   "execution_count": 3,
   "metadata": {},
   "outputs": [
    {
     "name": "stdout",
     "output_type": "stream",
     "text": [
      "Early mean  (1901~1915): 11.17 °C\n",
      "Recent mean (1999~2013): 12.08 °C\n"
     ]
    }
   ],
   "source": [
    "# Calculate the means for the early and recent periods\n",
    "early_mean = early_period['AvgTemperature'].mean()\n",
    "recent_mean = recent_period['AvgTemperature'].mean()\n",
    "\n",
    "print(f\"Early mean  (1901~1915): {early_mean :.2f} °C\")\n",
    "print(f\"Recent mean (1999~2013): {recent_mean :.2f} °C\")"
   ]
  },
  {
   "cell_type": "markdown",
   "metadata": {},
   "source": [
    "<font face='serif' size=4>\n",
    "<span style=\"line-height: 1.25;\">\n",
    "\n",
    "#### Perform t-test and calculate p-value\n",
    "\n",
    "Here we use the function stats.ttest_ind() from scipy.stats to do the t-test and print the output P value."
   ]
  },
  {
   "cell_type": "code",
   "execution_count": 4,
   "metadata": {},
   "outputs": [
    {
     "name": "stdout",
     "output_type": "stream",
     "text": [
      "P value = 5.468515979584668e-20\n"
     ]
    }
   ],
   "source": [
    "# Perform a two-sample t-test\n",
    "t_stat, p_value = stats.ttest_ind(recent_period['AvgTemperature'], early_period['AvgTemperature'],alternative='greater')\n",
    "\n",
    "print(f\"P value = {p_value}\")"
   ]
  },
  {
   "cell_type": "markdown",
   "metadata": {},
   "source": [
    "<font face='serif' size=4>\n",
    "<span style=\"line-height: 1.25;\">\n",
    "\n",
    "#### Discussion\n",
    "\n",
    "Since p value  $\\approx 5 \\cdot 10^{-20}$ which is much lower than 0.05 siganificant level, we trust the recent average temp. is higher than the early average temp.. "
   ]
  },
  {
   "cell_type": "markdown",
   "metadata": {},
   "source": [
    "<font face='serif' size=4>\n",
    "<span style=\"line-height: 1.25;\">\n",
    "\n",
    "### 5.3 \n",
    "在大氣的研究領域中選一本期刊並討論其使用假設檢定的目的以及是否有問題"
   ]
  },
  {
   "cell_type": "markdown",
   "metadata": {},
   "source": [
    "<font face='serif' size=4>\n",
    "<span style=\"line-height: 1.25;\">\n",
    "\n",
    "P.S. Assisted by GPTs-PaperDigest\n",
    "\n",
    "本研究 **「台北都會區午後雷陣雨週間變化」**（王世傑，指導教授：游政谷博士。於 2018 年 1 月在國立臺灣大學理學院大氣科學研究所完成）採用了氣象局與環保署地面觀測站的氣象參數資料，分析了 1999 至 2015 年間 6 月至 8 月期間，在弱綜觀環境下的週間降雨變化情況。\n",
    "\n",
    "#### 研究假設\n",
    "\n",
    "由於論文中未明確提出具體的假設（$H_0$與$H_1$），但根據研究方法的描述，我們可以推斷：\n",
    "\n",
    "- **零假設（$H_0$）**:「在弱綜觀環境下，台北都會區的午後雷陣雨沒有顯著的週間變化」。\n",
    "- **對立假設（$H_1$）**:「在弱綜觀環境下，台北都會區的午後雷陣雨存在顯著的週間變化」。\n",
    "\n",
    "#### 資料使用\n",
    "\n",
    "研究涵蓋了氣象局和環保署提供的地面觀測站資料，包括但不限於降雨量、懸浮微粒（PM10和PM2.5）濃度等。這些資料被用來分析夏季午後雷陣雨的週間變化，特別是在弱綜觀環境下的情況。\n",
    "\n",
    "#### 統計方法與結果\n",
    "\n",
    "透過 Z 檢定和 t 檢定，本研究分析了資料的週間變化是否具有統計上的顯著差異。結果顯示，台北盆地內的平均降雨強度在週間（特別是週三）大於週末，暗示了一種顯著的週間變化模式。此外，懸浮微粒（PM10 和 PM2.5）的分析也揭示了類似的週間變化趨勢。\n",
    "\n",
    "#### 研究結論與發現\n",
    "\n",
    "研究表明，在弱綜觀環境下，台北都會區的午後雷陣雨在週間有顯著的增加，尤其是在週三達到最大值。此外，懸浮微粒的週間變化也可能對這種降雨模式有所貢獻。這一發現對於理解都市地區的氣象變化模式提供了新的見解。\n",
    "\n",
    "#### 對此研究統計方法的評價\n",
    "本研究中選擇使用 Z 檢定和 t 檢定來分析週間降雨量及懸浮微粒濃度的變化，這在統計學上是合理的，原因如下：\n",
    "\n",
    "1. **樣本量**：研究包含了長達 17 年的資料，涵蓋了大量的日子和多個觀測站的數據。對於這樣的大樣本數據，Z 檢定能夠提供有效的統計推斷。對於可能樣本量較小的子集分析，t 檢定則是更合適的選擇。\n",
    "\n",
    "2. **數據分布**：雖然原始資料的分布情況未被詳細說明，但大樣本量根據中心極限定理，樣本平均的分布趨近於正態分布，這使得 Z 檢定成為一個合適的選擇。對於小樣本，若假設數據近似正態分布，t 檢定則是適當的方法。\n",
    "\n",
    "3. **研究目的**：這些檢定方法都適用於評估平均值之間的差異是否具有統計學意義，符合本研究旨在探討週間變化是否存在的目的。\n",
    "\n",
    "#### 結論\n",
    "綜上所述，本研究選擇使用 Z 檢定和 t 檢定來分析氣象數據的週間變化是合理的，這兩種方法都適用於樣本平均數差異性的統計檢定。"
   ]
  }
 ],
 "metadata": {
  "kernelspec": {
   "display_name": "base",
   "language": "python",
   "name": "python3"
  },
  "language_info": {
   "codemirror_mode": {
    "name": "ipython",
    "version": 3
   },
   "file_extension": ".py",
   "mimetype": "text/x-python",
   "name": "python",
   "nbconvert_exporter": "python",
   "pygments_lexer": "ipython3",
   "version": "3.11.7"
  }
 },
 "nbformat": 4,
 "nbformat_minor": 2
}
