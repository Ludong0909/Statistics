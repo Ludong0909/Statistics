{
 "cells": [
  {
   "cell_type": "markdown",
   "metadata": {},
   "source": [
    "<font face='serif' size=4>\n",
    "<span style=\"line-height: 1.25;\">\n",
    "\n",
    "# HW5 for Statistics with Meteorological Application\n",
    "---\n",
    "Student: 林之然 (B11209005, 大氣二), 蔡知諺（B11209014, 大氣二）"
   ]
  },
  {
   "cell_type": "markdown",
   "metadata": {},
   "source": [
    "<font face='serif' size=4>\n",
    "<span style=\"line-height: 1.25;\">\n",
    "\n",
    "### 5.1 \n",
    "如果我們已知2000年台北測站的的平均降雨量是5 mm/day， 我們想要知道2000年的平均降雨量與氣候平均是否有差異?\n",
    "- 請問你的虛無假設與對立假設應該如何設定？\n"
   ]
  },
  {
   "cell_type": "markdown",
   "metadata": {},
   "source": [
    "<font face='serif' size=4>\n",
    "<span style=\"line-height: 1.25;\">\n",
    "\n",
    "#### Answer\n",
    "\n",
    "- **虛無假設（$\\rm H_0$）：** 2000 年台北測站的平均降雨量與氣候平均降雨量相同 $\\bar{X}-\\mu=0$。\n",
    "- **對立假設（$\\rm H_1$）：** 2000 年台北測站的平均降雨量氣候平均降雨量不同 $\\bar{X}-\\mu\\neq0$。\n"
   ]
  },
  {
   "cell_type": "markdown",
   "metadata": {},
   "source": [
    "<font face='serif' size=4>\n",
    "<span style=\"line-height: 1.25;\">\n",
    "\n",
    "### 5.2 \n",
    "判斷近15年（1999~2013）的全球平均溫度是否顯著大於上世紀初15年 (1901~1915) 的平均溫度? \n"
   ]
  },
  {
   "cell_type": "markdown",
   "metadata": {},
   "source": [
    "<font face='serif' size=4>\n",
    "<span style=\"line-height: 1.25;\">\n",
    "\n",
    "#### Establishing Hypotheses\n",
    "\n",
    "In this case the null hypothesis and alternative hypothesis are:\n",
    "\n",
    "- Null Hypothesis: the global mean temperature over recent 15 years is lower than or equal to the mean temperature over early 20th century (1901-1915) $$H_0: \\bar{X}_{\\text{recent}} \\leq \\bar{X}_{\\text{Early 20th Century}}$$\n",
    "- Alternative Hypothesis: the the global mean temperature over recent 15 years is greater than the mean temperature over early 20th century (1901-1915) $$H_1: \\bar{X}_{\\text{recent}} > \\bar{X}_{\\text{Early 20th Century}}$$"
   ]
  },
  {
   "cell_type": "markdown",
   "metadata": {},
   "source": [
    "<font face='serif' size=4>\n",
    "<span style=\"line-height: 1.25;\">\n",
    "\n",
    "#### Processing data"
   ]
  },
  {
   "cell_type": "code",
   "execution_count": 2,
   "metadata": {},
   "outputs": [],
   "source": [
    "import pandas as pd\n",
    "from scipy import stats\n",
    "\n",
    "# Load the data\n",
    "data = pd.read_csv('./TS.txt', header=None, names=['Temperature'])\n",
    "\n",
    "# Dimensions\n",
    "years = 113  # Total years\n",
    "months_per_year = 12  # Months in a year\n",
    "\n",
    "# Reshape the data to have 113 rows (one for each year) and 12 columns (one for each month)\n",
    "data_reshaped = data.values.reshape(years, months_per_year)\n",
    "\n",
    "# Calculate the yearly averages\n",
    "yearly_averages = data_reshaped.mean(axis=1)\n",
    "\n",
    "# Since the data is from 1901 to 2013, create a range of years for reference\n",
    "years_range = pd.date_range(start='1901', periods=years, freq='Y').year\n",
    "\n",
    "# Create a DataFrame with the yearly averages\n",
    "yearly_data = pd.DataFrame({'Year': years_range, 'AvgTemperature': yearly_averages})\n",
    "\n",
    "# Extract the first 15 years (1901-1915) and the last 15 years (1999-2013) for comparison\n",
    "early_period = yearly_data[(yearly_data['Year'] >= 1901) & (yearly_data['Year'] <= 1915)]\n",
    "recent_period = yearly_data[(yearly_data['Year'] >= 1999) & (yearly_data['Year'] <= 2013)]"
   ]
  },
  {
   "cell_type": "markdown",
   "metadata": {},
   "source": [
    "<font face='serif' size=4>\n",
    "<span style=\"line-height: 1.25;\">\n",
    "\n",
    "#### Calculate mean value"
   ]
  },
  {
   "cell_type": "code",
   "execution_count": 3,
   "metadata": {},
   "outputs": [
    {
     "name": "stdout",
     "output_type": "stream",
     "text": [
      "Early mean  (1901~1915): 11.17 °C\n",
      "Recent mean (1999~2013): 12.08 °C\n"
     ]
    }
   ],
   "source": [
    "# Calculate the means for the early and recent periods\n",
    "early_mean = early_period['AvgTemperature'].mean()\n",
    "recent_mean = recent_period['AvgTemperature'].mean()\n",
    "\n",
    "print(f\"Early mean  (1901~1915): {early_mean :.2f} °C\")\n",
    "print(f\"Recent mean (1999~2013): {recent_mean :.2f} °C\")"
   ]
  },
  {
   "cell_type": "markdown",
   "metadata": {},
   "source": [
    "<font face='serif' size=4>\n",
    "<span style=\"line-height: 1.25;\">\n",
    "\n",
    "#### Perform t-test and calculate p-value"
   ]
  },
  {
   "cell_type": "code",
   "execution_count": 5,
   "metadata": {},
   "outputs": [
    {
     "name": "stdout",
     "output_type": "stream",
     "text": [
      "P value = 5.468515979584668e-20\n"
     ]
    }
   ],
   "source": [
    "# Perform a two-sample t-test\n",
    "t_stat, p_value = stats.ttest_ind(recent_period['AvgTemperature'], early_period['AvgTemperature'],alternative='greater')\n",
    "\n",
    "print(f\"P value = {p_value}\")"
   ]
  },
  {
   "cell_type": "markdown",
   "metadata": {},
   "source": [
    "<font face='serif' size=4>\n",
    "<span style=\"line-height: 1.25;\">\n",
    "\n",
    "#### Discussion\n",
    "\n",
    "Since p value  $\\approx 5 \\cdot 10^{-20}$ which is much lower than 0.05 siganificant level, we trust the recent average temp. is higher than the early average temp.. "
   ]
  },
  {
   "cell_type": "markdown",
   "metadata": {},
   "source": [
    "<font face='serif' size=4>\n",
    "<span style=\"line-height: 1.25;\">\n",
    "\n",
    "### 5.3 \n",
    "在大氣的研究領域中選一本期刊並討論其使用假設檢定的目的以及是否有問題"
   ]
  },
  {
   "cell_type": "markdown",
   "metadata": {},
   "source": [
    "<font face='serif' size=4>\n",
    "<span style=\"line-height: 1.25;\">\n",
    "\n",
    "P.S. Assisted by GPTs-PaperDigest\n",
    "\n",
    "文章《Hypothesis Tests for Evaluating Numerical Precipitation Forecasts》由 T. Hamill 於1999年在《Weather and Forecasting》期刊上發表，討論了使用傳統假設檢定來評估數值降水預報之間的差異【[(Hamill, 1999)](https://consensus.app/papers/hypothesis-tests-evaluating-numerical-precipitation-hamill/3d3224fc19325ee1a41f02cd16052314/?utm_source=chatgpt)】。該研究主要因為在比較競爭預報時，由於空間相關性和錯誤的非正態性，很少進行正式的假設檢定。研究中探索了解決這些困難的可能方法。\n",
    "（競爭網格降水預報是指由不同的天氣預報模型產生，針對相同地理區域和時間範圍的降水預報，這些預報被配置在一個網格（grid）系統上。這些模型可能包括不同的數學方程式、初始條件、物理參數化過程等，目的是為了預測特定時間和地點的降水量。競爭網格降水預報的目的是通過比較不同模型的預報能力，來識別哪個模型對於特定條件下的降水預測更為準確或有效。）\n",
    "\n",
    "#### 研究方法\n",
    "- **數據集**：評估了兩組競爭的網格降水預報，分別來自操作性天氣預報模型和一組來自模型輸出統計和預報集合的競爭概率量化降水預報。\n",
    "- **假設檢定方法**：採用了配對 t 檢定、非參數 Wilcoxon 符號等級檢定和兩種重抽樣檢定。當測試非概率預報的威脅分數時，更複雜的重抽樣檢定方法被認為是最合適的。\n",
    "\n",
    "#### 研究發現\n",
    "Hamill 的研究表明，在進行降水預報的評估時，傳統的假設檢定方法可能因為數據的空間相關性和非正態性而難以應用。然而，通過創新的方法，如重抽樣技術，可以克服這些挑戰，從而對競爭預報進行有效的比較和評估。\n",
    "\n",
    "#### 針對統計方法的討論與解釋\n",
    "這篇論文《對數值降水預報進行假設檢驗的方法》由 THOMAS M. HAMILL 撰寫，詳細討論了在評估數值降水預報時如何進行正式的統計假設檢驗。以下是對文章中使用的統計方法的詳細討論：\n",
    "\n",
    "##### 假設\n",
    "文章中對於不同的降水預報，設立了兩個基本假設：\n",
    "1. **零假設 (H0)**: 指出兩個競爭預報系統之間沒有顯著的差異。\n",
    "2. **對立假設 (H1)**: 表明兩個競爭預報系統之間存在顯著差異。\n",
    "\n",
    "##### 驗證方法\n",
    "文章探討了幾種主要的統計檢定方法來驗證假設，包括：\n",
    "1. **成對 t 檢驗 （Paired t-test）**: 配對 t 檢定是一種參數統計方法，用於比較兩組相關或配對樣本的平均值差異是否顯著，假設數據來自於正態分佈。這種檢定適用於同一組對象在不同條件下進行測試的情況，或者是對兩組相關樣本（如同一群人在接受不同處理前後的反應）進行比較。）\n",
    "2. **Wilcoxon 符號等級檢驗 （Wilcoxon Signed-Rank Test）**: Wilcoxon 符號等級檢定是一種非參數統計方法，用於比較兩組配對樣本的中位數是否有顯著差異，而不假設數據來自特定的分佈。這種檢定適合於數據不符合正態分佈或者樣本量較小時的情況，尤其是當數據是順序尺度（如排名）時更為適用。\n",
    "3. **重採樣檢驗**: 文章提出了兩種基於重採樣技術的檢驗方法。重採樣技術不依賴於數據的特定分佈假設，通過從原始數據中重複抽樣來構建符合零假設的分佈，從而評估觀察到的統計量的顯著性。重採樣技術包括自助法（Bootstrap）和置換測試（Permutation Test），自助法通過有放回的抽樣建立新的數據集，而置換測試通過重新分配標籤來檢驗統計假設。這兩種方法在處理小樣本和非正態分佈數據上特別有用。\n",
    "\n",
    "##### 資料處理\n",
    "文章詳細探討了如何處理降水預報錯誤的空間相關性和非正態分布問題。為了避免這些問題，提出將每日的預報數據視為一個獨立樣本進行分析，並利用重採樣技術生成與零假設一致的分佈來評估觀察到的統計量的顯著性。\n",
    "\n",
    "##### 結果\n",
    "當使用不同的統計檢驗方法來評估數值降水預報之間的差異時，發現了一些有趣的結果，特別是關於威脅分數（ETS）和偏差（BIA）的比較。威脅分數作為衡量降水預報準確性的一個關鍵指標，在較低降水閾值下，不論採用哪種統計檢驗方法，結果都顯示出兩種預報系統間存在顯著的差異。這表明對於較輕微的降水事件，這些系統的預報準確性有明顯不同。相對地，對於偏差——一個反映預報與實際降水事件發生頻率比較的指標，各種檢驗方法並未發現顯著差異，意味著在較低降水量的預測上，各預報系統傾向於過多或過少預報的程度沒有明顯差別。\n",
    "\n",
    "##### 評價\n",
    "- **假設的合理性**:\n",
    "零假設（H0）和對立假設（H1）的設立是統計檢驗的標準做法，它們提供了一個明確的框架來評估兩個預報系統間是否存在顯著差異。\n",
    "在氣象預報的場景中，特別是對於降水預報，這樣的假設設立是合理的，因為它直接關聯到預報模型的性能評估。\n",
    "\n",
    "- **統計檢驗方法的合理性**:\n",
    "成對 t 檢定（Paired t-test）和 Wilcoxon （Wilcoxon Signed-Rank Test） 符號等級檢驗都適用於配對樣本的分析，這在比較同一群體在不同條件下的反應時非常有用，如同一地點在不同預報模型下的降水預測。這些方法各有其適用條件和限制，其選擇取決於數據的分佈和樣本大小。\n",
    "重採樣檢驗方法，如自助法（bootstrap）和置換檢驗（permutation test），提供了一種靈活的檢驗方式，特別是當標準假設檢驗的前提條件不被滿足時。這對於小樣本或非正態分佈的數據尤其有用。"
   ]
  },
  {
   "cell_type": "markdown",
   "metadata": {},
   "source": [
    "<font face='serif' size=4>\n",
    "<span style=\"line-height: 1.25;\">\n",
    "\n",
    "#### Notes:\n",
    "##### Wilcoxon 符號等級檢驗 (Wilcoxon Signed-Rank Test)\n",
    "Wilcoxon符號等級檢驗是一種非參數統計檢驗方法，用於比較兩組配對樣本的中位數是否有顯著差異。這種檢驗不要求數據遵循正態分佈，適合於順序數據或非正態分佈的數據分析。\n",
    "\n",
    "##### 成對 t 檢定 (Paired t-test)\n",
    "成對t檢定是一種參數統計檢驗方法，用於比較兩組相關樣本的平均值差異。這種方法假設數據差值遵循正態分佈，適用於測量同一組對象在兩種不同條件或時間點下的變化。\n",
    "\n",
    "##### 重採樣檢驗方法 (Resampling Test Methods)\n",
    "重採樣檢驗方法是一類基於重採樣技術（如自助法 (bootstrap) 或置換 (permutation) 方法）的統計檢驗，不直接依賴於數據的原始分佈假設。這種方法通過從原始數據中重複抽取樣本（有放回或無放回），來生成新的樣本集合，進而估計檢驗統計量的分佈。重採樣檢驗特別適合於小樣本數據分析，以及當數據不符合傳統檢驗方法所要求的分佈條件時。\n",
    "\n",
    "##### 威脅分數（ETS: Equitable Threat Score）\n",
    "威脅分數是一種衡量天氣預報準確性的指標，尤其是用於評估降水預報的準確性。它考慮了預報中正確預測事件發生（命中）和錯誤預測事件發生（空報）以及錯過事件（漏報）的情況。\n",
    "ETS 的計算方式旨在提供一個公平的評分，通過剔除隨機預測成功的部分，使得分數不會因隨機機率而有所偏向。\n",
    "\n",
    "##### 偏差（BIA: Bias）\n",
    "偏差是另一個評估預報性能的指標，用來衡量預報的事件發生頻率與實際觀測的事件發生頻率之間的比例。它反映了預報系統傾向於過多或過少預報特定事件的程度。\n",
    "偏差值為 1 表示預報與觀測完全一致；大於 1 表示過度預報；小於 1 表示不足預報。\n",
    "\n",
    "##### 概率化定量降水預報 (Probabilistic Quantitative Precipitation Forecasts, PQPFs)\n",
    "概率化定量降水預報提供了在特定時間和地點，降水量達到不同閾值的概率預報。與傳統的確定性預報不同，PQPFs提供了預報的不確定性信息，幫助決策者理解預報的可能範圍和信心水平。\n",
    "\n",
    "##### 排名概率技能分數 (Ranked Probability Skill Score, RPSS)\n",
    "排名概率技能分數是衡量概率預報技能的一種指標，特別適用於有序類別預報（如PQPFs）。RPSS計算基於預報和觀測的累積概率分佈之間的差異，量化預報相對於某個參考預報（通常是長期氣候平均或隨機預報）的改進程度。"
   ]
  }
 ],
 "metadata": {
  "kernelspec": {
   "display_name": "base",
   "language": "python",
   "name": "python3"
  },
  "language_info": {
   "codemirror_mode": {
    "name": "ipython",
    "version": 3
   },
   "file_extension": ".py",
   "mimetype": "text/x-python",
   "name": "python",
   "nbconvert_exporter": "python",
   "pygments_lexer": "ipython3",
   "version": "3.11.7"
  }
 },
 "nbformat": 4,
 "nbformat_minor": 2
}
