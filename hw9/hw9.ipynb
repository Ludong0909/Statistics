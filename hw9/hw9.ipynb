{
 "cells": [
  {
   "cell_type": "markdown",
   "metadata": {},
   "source": [
    "#### Import necessary packages"
   ]
  },
  {
   "cell_type": "code",
   "execution_count": 22,
   "metadata": {},
   "outputs": [],
   "source": [
    "import numpy as np\n",
    "import pandas as pd\n",
    "import matplotlib.pyplot as plt\n",
    "import xarray as xr\n",
    "import torch\n",
    "import torch.nn as nn\n",
    "import torch.nn.functional as F\n",
    "import torch.optim as optim\n",
    "from torch.utils.data import Dataset, DataLoader\n",
    "from sklearn.model_selection import train_test_split\n",
    "from tqdm import tqdm\n",
    "import logging\n",
    "import time\n"
   ]
  },
  {
   "cell_type": "markdown",
   "metadata": {},
   "source": [
    "#### Check mps is avaliable"
   ]
  },
  {
   "cell_type": "code",
   "execution_count": 23,
   "metadata": {},
   "outputs": [
    {
     "name": "stdout",
     "output_type": "stream",
     "text": [
      "Using device: mps\n"
     ]
    }
   ],
   "source": [
    "# Check mps is avaliable\n",
    "if not torch.backends.mps.is_available():\n",
    "    device = torch.device('cpu')\n",
    "else:\n",
    "    device = torch.device('mps')\n",
    "\n",
    "print(f\"Using device: {device}\")"
   ]
  },
  {
   "cell_type": "markdown",
   "metadata": {},
   "source": [
    "#### Fix random seed"
   ]
  },
  {
   "cell_type": "code",
   "execution_count": 24,
   "metadata": {},
   "outputs": [],
   "source": [
    "# Set random seed\n",
    "seed_np = np.random.seed(42)\n",
    "seed = torch.manual_seed(42)"
   ]
  },
  {
   "cell_type": "markdown",
   "metadata": {},
   "source": [
    "#### Process data"
   ]
  },
  {
   "cell_type": "code",
   "execution_count": 25,
   "metadata": {},
   "outputs": [
    {
     "name": "stdout",
     "output_type": "stream",
     "text": [
      "(139, 12, 180, 360)\n",
      "(139, 2)\n"
     ]
    }
   ],
   "source": [
    "# Load SST data from the NetCDF file using xarray\n",
    "ds = xr.open_dataset('./sst.mon.mean.trefadj.anom.1880to2018.nc')\n",
    "sst_data = ds['sst'].values  # shape (139*12, 180, 360), (time, lat, lon)\n",
    "\n",
    "# Reshape SST data to be (-1, 12, 180, 360) for (years, months, lat, lon)\n",
    "years = sst_data.shape[0] // 12\n",
    "sst_data = sst_data.reshape(years, 12, 180, 360)\n",
    "\n",
    "# Function to process anomaly data and get labels based on specified thresholds\n",
    "def get_anomaly_labels(file_path, start_year=1880, end_year=2018):\n",
    "    # Load label data\n",
    "    sst_labels_raw = pd.read_csv(file_path, delim_whitespace=True, header=None)\n",
    "\n",
    "    # Set columns (Years and Months)\n",
    "    columns = ['Year'] + [f'Month_{i}' for i in range(1, 13)]\n",
    "    sst_labels_raw.columns = columns\n",
    "    sst_labels_raw.set_index('Year', inplace=True)\n",
    "\n",
    "    # Filter years from start_year to end_year\n",
    "    sst_labels_raw = sst_labels_raw.loc[start_year:end_year]\n",
    "\n",
    "    # Replace placeholder values with NaN and interpolate or remove\n",
    "    sst_labels_raw.replace(-99.99, np.nan, inplace=True)\n",
    "    sst_labels_raw.interpolate(method='linear', limit_direction='both', axis=0, inplace=True)\n",
    "\n",
    "    # Calculate the 3-month rolling mean\n",
    "    sst_labels = sst_labels_raw.rolling(window=3, axis=1, center=True).mean()\n",
    "\n",
    "    # Function to label each year based on 3-month averages\n",
    "    def label_year(row):\n",
    "        el_nino_count = 0\n",
    "        la_nina_count = 0\n",
    "        for i in range(len(row) - 2):\n",
    "            three_month_avg = row[i:i+3].mean()\n",
    "            if three_month_avg >= 0.5:\n",
    "                el_nino_count += 1\n",
    "                la_nina_count = 0\n",
    "            elif three_month_avg <= -0.5:\n",
    "                la_nina_count += 1\n",
    "                el_nino_count = 0\n",
    "            else:\n",
    "                el_nino_count = 0\n",
    "                la_nina_count = 0\n",
    "            \n",
    "            if el_nino_count >= 5:\n",
    "                return 2  # El Niño\n",
    "            if la_nina_count >= 5:\n",
    "                return 0  # La Niña\n",
    "        return 1  # Neutral\n",
    "\n",
    "    # Apply the labeling function to each year\n",
    "    labels = sst_labels.apply(label_year, axis=1).reset_index()\n",
    "    labels.columns = ['Year', 'Label']\n",
    "\n",
    "    return labels\n",
    "\n",
    "data_path = './nino34.long.anom.data.txt'\n",
    "sst_labels = get_anomaly_labels(data_path)\n",
    "\n",
    "print(sst_data.shape)\n",
    "print(sst_labels.shape)"
   ]
  },
  {
   "cell_type": "markdown",
   "metadata": {},
   "source": [
    "#### Hyperparameters"
   ]
  },
  {
   "cell_type": "code",
   "execution_count": 26,
   "metadata": {},
   "outputs": [],
   "source": [
    "# Hyperparameters\n",
    "params = {\n",
    "    \"lr\": 1e-2,\n",
    "    \"weight_decay\": 1e-4,\n",
    "    \"epochs\": 10,\n",
    "    \"batch_size\": 4,\n",
    "    \"num_workers\": 0\n",
    "}"
   ]
  },
  {
   "cell_type": "markdown",
   "metadata": {},
   "source": [
    "#### Setting dataset"
   ]
  },
  {
   "cell_type": "code",
   "execution_count": 27,
   "metadata": {},
   "outputs": [
    {
     "name": "stdout",
     "output_type": "stream",
     "text": [
      "(97, 12, 180, 360) (97, 2)\n",
      "(28, 12, 180, 360) (28, 2)\n",
      "(14, 12, 180, 360) (14, 2)\n"
     ]
    }
   ],
   "source": [
    "# Splitting the dataset\n",
    "X_train_val, X_test, y_train_val, y_test = train_test_split(sst_data, sst_labels, test_size=0.1, random_state=seed_np)\n",
    "X_train, X_val, y_train, y_val = train_test_split(X_train_val, y_train_val, test_size=0.222, random_state=seed_np)  # 0.222 * 0.9 ≈ 0.2\n",
    "\n",
    "# Check shapes\n",
    "print(X_train.shape, y_train.shape)  # (97, 12, 180, 360) (97, 2)\n",
    "print(X_val.shape, y_val.shape)  # (28, 12, 180, 360) (28, 2)\n",
    "print(X_test.shape, y_test.shape)  # (14, 12, 180, 360) (14, 2)\n",
    "\n",
    "\n",
    "class SSTDataset(Dataset):\n",
    "    def __init__(self, X, y):\n",
    "        y = y.values\n",
    "        self.X = torch.tensor(X, dtype=torch.float32)\n",
    "        self.y = torch.tensor(y[:, 1], dtype=torch.long)  # Extract only the label column\n",
    "\n",
    "    def __len__(self):\n",
    "        return self.X.shape[0] * self.X.shape[1]  # Total number of samples\n",
    "\n",
    "    def __getitem__(self, idx):\n",
    "        year = idx // 12\n",
    "        month = idx % 12\n",
    "        return self.X[year], self.y[year]  # (12, 180, 360), (2)\n",
    "\n",
    "\n",
    "# Initialize DataLoader objects again to ensure correctness\n",
    "train_loader = DataLoader(SSTDataset(X_train, y_train), batch_size=params['batch_size'], shuffle=True, num_workers=params['num_workers'])\n",
    "val_loader = DataLoader(SSTDataset(X_val, y_val), batch_size=params['batch_size'], shuffle=False, num_workers=params['num_workers'])\n",
    "test_loader = DataLoader(SSTDataset(X_test, y_test), batch_size=params['batch_size'], shuffle=False, num_workers=params['num_workers'])\n"
   ]
  },
  {
   "cell_type": "markdown",
   "metadata": {},
   "source": [
    "#### Define model"
   ]
  },
  {
   "cell_type": "code",
   "execution_count": 28,
   "metadata": {},
   "outputs": [],
   "source": [
    "# Model definition\n",
    "class CNN(nn.Module):\n",
    "    def __init__(self):\n",
    "        super(CNN, self).__init__()\n",
    "        self.conv1 = nn.Conv2d(12, 32, kernel_size=3, padding=1)\n",
    "        self.conv2 = nn.Conv2d(32, 64, kernel_size=3, padding=1)\n",
    "        self.pool = nn.MaxPool2d(2, 2)\n",
    "        \n",
    "        # Calculate the size after two pooling operations (180/4, 360/4)\n",
    "        self.num_flat_features = 64 * (180 // 4) * (360 // 4)\n",
    "        \n",
    "        self.fc1 = nn.Linear(self.num_flat_features, 512)\n",
    "        self.fc2 = nn.Linear(512, 3)  # Output layer for 3 classes: El Niño, La Niña, Neutral\n",
    "\n",
    "    def forward(self, x):\n",
    "        x = self.pool(F.relu(self.conv1(x)))\n",
    "        x = self.pool(F.relu(self.conv2(x)))\n",
    "        \n",
    "        x = x.view(-1, self.num_flat_features)\n",
    "        \n",
    "        x = F.relu(self.fc1(x))\n",
    "        x = self.fc2(x)  # Output logits for three classes\n",
    "        return x"
   ]
  },
  {
   "cell_type": "markdown",
   "metadata": {},
   "source": [
    "#### Configurations"
   ]
  },
  {
   "cell_type": "code",
   "execution_count": 29,
   "metadata": {},
   "outputs": [],
   "source": [
    "# Initialize model, optimizer, and loss function\n",
    "model = CNN().to(device)  # mps\n",
    "optimizer = optim.Adam(model.parameters(), lr=params[\"lr\"], weight_decay=params[\"weight_decay\"])\n",
    "criterion = nn.CrossEntropyLoss()"
   ]
  },
  {
   "cell_type": "markdown",
   "metadata": {},
   "source": [
    "#### Training and Testing"
   ]
  },
  {
   "cell_type": "code",
   "execution_count": 30,
   "metadata": {},
   "outputs": [
    {
     "name": "stderr",
     "output_type": "stream",
     "text": [
      "Training progress: 100%|██████████| 10/10 [04:36<00:00, 27.67s/it]\n"
     ]
    },
    {
     "name": "stdout",
     "output_type": "stream",
     "text": [
      "Training time for 10 epochs: 276.68 seconds\n"
     ]
    }
   ],
   "source": [
    "# Configure logging\n",
    "logging.basicConfig(filename='training.log', level=logging.INFO)\n",
    "\n",
    "# Loss array to keep track of train and validation losses\n",
    "Loss = np.zeros((params[\"epochs\"], 2))  # epochs, train/test\n",
    "Accuracy = np.zeros((params[\"epochs\"], 2))  # epochs, train/test\n",
    "\n",
    "def calculate_accuracy(labels, preds):\n",
    "    correct = (preds == labels).sum().item()\n",
    "    accuracy = correct / labels.size(0)\n",
    "    return accuracy\n",
    "\n",
    "def train_model():\n",
    "    best_val_loss = float('inf')\n",
    "    start_time = time.time()\n",
    "\n",
    "    for epoch in tqdm(range(params[\"epochs\"]), desc='Training progress'):\n",
    "        model.train()\n",
    "        running_loss = 0.0\n",
    "        train_correct = 0\n",
    "        train_total = 0\n",
    "\n",
    "        # Training phase\n",
    "        for inputs, labels in train_loader:\n",
    "            inputs, labels = inputs.to(device), labels.to(device)\n",
    "            optimizer.zero_grad()\n",
    "            outputs = model(inputs)\n",
    "            loss = criterion(outputs, labels)\n",
    "            loss.backward()\n",
    "            optimizer.step()\n",
    "            running_loss += loss.item()\n",
    "\n",
    "            _, predicted = torch.max(outputs.data, 1)\n",
    "            train_total += labels.size(0)\n",
    "            train_correct += (predicted == labels).sum().item()\n",
    "\n",
    "        avg_train_loss = running_loss / len(train_loader)\n",
    "        train_accuracy = train_correct / train_total\n",
    "        Loss[epoch, 0] = avg_train_loss\n",
    "        Accuracy[epoch, 0] = train_accuracy\n",
    "\n",
    "        # Validation phase\n",
    "        model.eval()\n",
    "        running_val_loss = 0.0\n",
    "        val_correct = 0\n",
    "        val_total = 0\n",
    "        with torch.no_grad():\n",
    "            for inputs, labels in val_loader:\n",
    "                inputs, labels = inputs.to(device), labels.to(device)\n",
    "                outputs = model(inputs)\n",
    "                loss = criterion(outputs, labels)\n",
    "                running_val_loss += loss.item()\n",
    "\n",
    "                _, predicted = torch.max(outputs.data, 1)\n",
    "                val_total += labels.size(0)\n",
    "                val_correct += (predicted == labels).sum().item()\n",
    "\n",
    "        avg_val_loss = running_val_loss / len(val_loader)\n",
    "        val_accuracy = val_correct / val_total\n",
    "        Loss[epoch, 1] = avg_val_loss\n",
    "        Accuracy[epoch, 1] = val_accuracy\n",
    "\n",
    "        # Log the epoch results\n",
    "        message = f'Epoch {epoch + 1}/{params[\"epochs\"]}\\n'\n",
    "        message += f'           Train set - loss: {avg_train_loss:.4f}, accuracy: {train_accuracy:.4f}\\n'\n",
    "        message += f'           Validation set - loss: {avg_val_loss:.4f}, accuracy: {val_accuracy:.4f}\\n'\n",
    "\n",
    "        # Write the message to the log file\n",
    "        logging.info(message)\n",
    "\n",
    "        # Save the best model\n",
    "        if avg_val_loss < best_val_loss:\n",
    "            best_val_loss = avg_val_loss\n",
    "            torch.save(model.state_dict(), 'best_model.pth')\n",
    "            logging.info('Validation loss decreased, saving model...')\n",
    "\n",
    "    # Calculate total training time\n",
    "    train_time = time.time() - start_time\n",
    "    print(f'Training time for {params[\"epochs\"]} epochs: {train_time:.2f} seconds')\n",
    "\n",
    "def test_model(model_path='best_model.pth'):\n",
    "    # Load the best model for testing\n",
    "    model.load_state_dict(torch.load(model_path))\n",
    "    model.eval()\n",
    "\n",
    "    # Testing phase\n",
    "    running_test_loss = 0.0\n",
    "    correct = 0\n",
    "    total = 0\n",
    "    with torch.no_grad():\n",
    "        for inputs, labels in test_loader:\n",
    "            inputs, labels = inputs.to(device), labels.to(device)\n",
    "            outputs = model(inputs)\n",
    "            loss = criterion(outputs, labels)\n",
    "            running_test_loss += loss.item()\n",
    "            _, predicted = torch.max(outputs.data, 1)\n",
    "            total += labels.size(0)\n",
    "            correct += (predicted == labels).sum().item()\n",
    "\n",
    "    avg_test_loss = running_test_loss / len(test_loader)\n",
    "    accuracy = correct / total * 100\n",
    "    logging.info(f'Test Loss: {avg_test_loss:.4f}, Accuracy: {accuracy:.2f}%')\n",
    "\n",
    "# Training\n",
    "train_model()\n",
    "\n",
    "# Evaluate the model\n",
    "test_model()"
   ]
  },
  {
   "cell_type": "markdown",
   "metadata": {},
   "source": [
    "#### Visualize result"
   ]
  },
  {
   "cell_type": "code",
   "execution_count": 31,
   "metadata": {},
   "outputs": [
    {
     "data": {
      "image/png": "[encoded data removed]",
      "text/plain": [
       "<Figure size 1000x600 with 1 Axes>"
      ]
     },
     "metadata": {},
     "output_type": "display_data"
    },
    {
     "data": {
      "image/png": "[encoded data removed]",
      "text/plain": [
       "<Figure size 1000x600 with 1 Axes>"
      ]
     },
     "metadata": {},
     "output_type": "display_data"
    }
   ],
   "source": [
    "# Visualize the training and validation loss\n",
    "plt.figure(figsize=(10, 6))\n",
    "plt.plot(Loss[:, 0], label='Train')\n",
    "plt.plot(Loss[:, 1], label='Validation')\n",
    "plt.xlabel('Epoch')\n",
    "plt.ylabel('Loss')\n",
    "plt.title('Training and Validation Loss')\n",
    "plt.xlim(0, params[\"epochs\"] - 1)\n",
    "plt.legend()\n",
    "plt.grid()\n",
    "plt.show()\n",
    "\n",
    "# Visualize the training and validation accuracy\n",
    "plt.figure(figsize=(10, 6))\n",
    "plt.plot(Accuracy[:, 0], label='Train')\n",
    "plt.plot(Accuracy[:, 1], label='Validation')\n",
    "plt.xlabel('Epoch')\n",
    "plt.ylabel('Accuracy')\n",
    "plt.title('Training and Validation Accuracy')\n",
    "plt.xlim(0, params[\"epochs\"] - 1)\n",
    "plt.legend()\n",
    "plt.grid()\n"
   ]
  }
 ],
 "metadata": {
  "kernelspec": {
   "display_name": "base",
   "language": "python",
   "name": "python3"
  },
  "language_info": {
   "codemirror_mode": {
    "name": "ipython",
    "version": 3
   },
   "file_extension": ".py",
   "mimetype": "text/x-python",
   "name": "python",
   "nbconvert_exporter": "python",
   "pygments_lexer": "ipython3",
   "version": "3.11.7"
  }
 },
 "nbformat": 4,
 "nbformat_minor": 2
}
