{
 "cells": [
  {
   "cell_type": "markdown",
   "metadata": {},
   "source": [
    "### Q7 csv"
   ]
  },
  {
   "cell_type": "code",
   "execution_count": 6,
   "metadata": {},
   "outputs": [
    {
     "name": "stdout",
     "output_type": "stream",
     "text": [
      "1.6468445727908632e-10\n",
      "2.0864115315332102e-18\n",
      "3.4361994996353133e-13\n",
      "4.305041154711193e-13\n",
      "0.0017520121548758965\n",
      "0.0001400473697258502\n"
     ]
    }
   ],
   "source": [
    "import numpy as np\n",
    "import pandas as pd\n",
    "from scipy.stats import ttest_ind\n",
    "\n",
    "# Open modified csv (translated into English)\n",
    "data = pd.read_csv('/Users/ludong/PROGRAM/112-2/Statistics/Mid/Q7.csv')\n",
    "(data.head(), data.describe())\n",
    "\n",
    "# Calculate mean\n",
    "Mon_mu = data['Mon'].mean()\n",
    "Tue_mu = data['Tue'].mean()\n",
    "Wed_mu = data['Wed'].mean()\n",
    "Thu_mu = data['Thu'].mean()\n",
    "Fri_mu = data['Fri'].mean()\n",
    "Sat_mu = data['Sat'].mean()\n",
    "Sun_mu = data['Sun'].mean()\n",
    "\n",
    "date = ['Mon', 'Tue', 'Wed', 'Thu', 'Fri', 'Sun']\n",
    "\n",
    "for i in range(len(date)):\n",
    "    t_stat, p_value = ttest_ind(data[date[i]], data['Sat'] , equal_var=False)\n",
    "    print(p_value)"
   ]
  }
 ],
 "metadata": {
  "kernelspec": {
   "display_name": "base",
   "language": "python",
   "name": "python3"
  },
  "language_info": {
   "codemirror_mode": {
    "name": "ipython",
    "version": 3
   },
   "file_extension": ".py",
   "mimetype": "text/x-python",
   "name": "python",
   "nbconvert_exporter": "python",
   "pygments_lexer": "ipython3",
   "version": "3.11.7"
  }
 },
 "nbformat": 4,
 "nbformat_minor": 2
}
