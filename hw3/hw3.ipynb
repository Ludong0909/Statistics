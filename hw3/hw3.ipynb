{
 "cells": [
  {
   "cell_type": "markdown",
   "metadata": {},
   "source": [
    "# HW3 for Statistics with Meteorological Application\n",
    "---\n",
    "Student: 林之然 (B11209005, 大氣二), 蔡知諺（B11209014, 大氣二）"
   ]
  },
  {
   "cell_type": "markdown",
   "metadata": {},
   "source": [
    "### Import and open file"
   ]
  },
  {
   "cell_type": "code",
   "execution_count": 1,
   "metadata": {},
   "outputs": [],
   "source": [
    "import numpy as np\n",
    "import pandas as pd\n",
    "import matplotlib.pyplot as plt\n",
    "from statsmodels.tsa.seasonal import seasonal_decompose\n",
    "from scipy.stats import norm\n",
    "# Path\n",
    "file_path = \"../hw1/TS Statistics Meteor.txt\"\n",
    "\n",
    "# Load the data\n",
    "data = pd.read_csv(file_path, header=None, names=['Value'])\n",
    "data['Time'] = pd.date_range(start='2020-01-01', periods=len(data), freq='M')\n",
    "data.set_index('Time', inplace=True)"
   ]
  },
  {
   "cell_type": "markdown",
   "metadata": {},
   "source": [
    "### Calculate std. of raw data"
   ]
  },
  {
   "cell_type": "code",
   "execution_count": 2,
   "metadata": {},
   "outputs": [
    {
     "name": "stdout",
     "output_type": "stream",
     "text": [
      "For Mean ± 1*std, the range is from  6.84°C to 16.08°C. About  50.2% of the months fall within this range.\n",
      "For Mean ± 2*std, the range is from  2.21°C to 20.71°C. About 100.0% of the months fall within this range.\n",
      "For Mean ± 3*std, the range is from -2.41°C to 25.33°C. About 100.0% of the months fall within this range.\n"
     ]
    }
   ],
   "source": [
    "# Now, we will calculate the mean, standard deviation, and the requested mean +- std values.\n",
    "mean_temp = data['Value'].mean()\n",
    "std_temp = data['Value'].std()\n",
    "\n",
    "# Calculate mean ± std, mean ± 2*std, and mean ± 3*std\n",
    "mean_plus_minus_std = [(mean_temp + i * std_temp, mean_temp - i * std_temp) for i in range(1, 4)]\n",
    "\n",
    "# Calculate the percentage of months within each range\n",
    "percentages = [(np.sum((data['Value'] <= upper) & (data['Value'] >= lower)) / len(data['Value'])) * 100\n",
    "               for upper, lower in mean_plus_minus_std]\n",
    "\n",
    "for i, (range_values, percentage) in enumerate(zip(mean_plus_minus_std, percentages)):\n",
    "    result_text = f\"For Mean ± {i+1}*std, the range is from {range_values[1]:5.2f}°C to {range_values[0]:5.2f}°C. \"\n",
    "    result_text += f\"About {percentage:5.1f}% of the months fall within this range.\"\n",
    "    print(result_text)"
   ]
  },
  {
   "cell_type": "markdown",
   "metadata": {},
   "source": [
    "### Calculate std. of deseasonalized data"
   ]
  },
  {
   "cell_type": "code",
   "execution_count": 5,
   "metadata": {},
   "outputs": [
    {
     "name": "stdout",
     "output_type": "stream",
     "text": [
      "For Mean ± 1*std, the range is from 11.07°C to 11.85°C. About  70.9% of the months fall within this range.\n",
      "For Mean ± 2*std, the range is from 10.68°C to 12.24°C. About  94.7% of the months fall within this range.\n",
      "For Mean ± 3*std, the range is from 10.29°C to 12.63°C. About  99.5% of the months fall within this range.\n"
     ]
    }
   ],
   "source": [
    "# Decomposition with a monthly period for surface temperature data\n",
    "decomposition_result_monthly = seasonal_decompose(data['Value'], model='additive', period=12)\n",
    "data['Deseasonalized'] = data['Value'] - decomposition_result_monthly.seasonal\n",
    "\n",
    "# Now, we will calculate the mean, standard deviation, and the requested mean +- std values.\n",
    "mean_temp_de = data['Deseasonalized'].mean()\n",
    "std_temp_de = data['Deseasonalized'].std()\n",
    "\n",
    "# Calculate mean ± std, mean ± 2*std, and mean ± 3*std\n",
    "mean_plus_minus_std_de = [(mean_temp_de + i * std_temp_de, mean_temp_de - i * std_temp_de) for i in range(1, 4)]\n",
    "\n",
    "# Calculate the percentage of months within each range\n",
    "percentages_de = [(np.sum((data['Deseasonalized'] <= upper) & (data['Deseasonalized'] >= lower)) / len(data['Deseasonalized'])) * 100\n",
    "               for upper, lower in mean_plus_minus_std_de]\n",
    "\n",
    "for i, (range_values_de, percentage_de) in enumerate(zip(mean_plus_minus_std_de, percentages_de)):\n",
    "    result_text_de = f\"For Mean ± {i+1}*std, the range is from {range_values_de[1]:5.2f}°C to {range_values_de[0]:5.2f}°C. \"\n",
    "    result_text_de += f\"About {percentage_de:5.1f}% of the months fall within this range.\"\n",
    "    print(result_text_de)"
   ]
  }
 ],
 "metadata": {
  "kernelspec": {
   "display_name": "base",
   "language": "python",
   "name": "python3"
  },
  "language_info": {
   "codemirror_mode": {
    "name": "ipython",
    "version": 3
   },
   "file_extension": ".py",
   "mimetype": "text/x-python",
   "name": "python",
   "nbconvert_exporter": "python",
   "pygments_lexer": "ipython3",
   "version": "3.11.7"
  }
 },
 "nbformat": 4,
 "nbformat_minor": 2
}
