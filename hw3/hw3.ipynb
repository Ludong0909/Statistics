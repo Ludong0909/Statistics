{
 "cells": [
  {
   "cell_type": "markdown",
   "metadata": {},
   "source": [
    "# HW3 for Statistics with Meteorological Application\n",
    "---\n",
    "Student: 林之然 (B11209005, 大氣二), 蔡知諺（B11209014, 大氣二）"
   ]
  },
  {
   "cell_type": "markdown",
   "metadata": {},
   "source": [
    "### Import and open file"
   ]
  },
  {
   "cell_type": "code",
   "execution_count": 2,
   "metadata": {},
   "outputs": [],
   "source": [
    "import numpy as np\n",
    "import pandas as pd\n",
    "\n",
    "# Path\n",
    "file_path = \"../hw1/TS Statistics Meteor.txt\"\n",
    "\n",
    "# Load the data\n",
    "data = pd.read_csv(file_path, header=None, names=['Value'])\n",
    "data['Time'] = pd.date_range(start='2020-01-01', periods=len(data), freq='M')\n",
    "data.set_index('Time', inplace=True)"
   ]
  },
  {
   "cell_type": "markdown",
   "metadata": {},
   "source": [
    "### Calculate std."
   ]
  },
  {
   "cell_type": "code",
   "execution_count": 16,
   "metadata": {},
   "outputs": [
    {
     "name": "stdout",
     "output_type": "stream",
     "text": [
      "For Mean ± 1*std, the range is from  6.84°C to 16.08°C. About  50.2% of the months fall within this range.\n",
      "For Mean ± 2*std, the range is from  2.21°C to 20.71°C. About 100.0% of the months fall within this range.\n",
      "For Mean ± 3*std, the range is from -2.41°C to 25.33°C. About 100.0% of the months fall within this range.\n"
     ]
    }
   ],
   "source": [
    "# Now, we will calculate the mean, standard deviation, and the requested mean +- std values.\n",
    "mean_temp = data['Value'].mean()\n",
    "std_temp = data['Value'].std()\n",
    "\n",
    "# Calculate mean ± std, mean ± 2*std, and mean ± 3*std\n",
    "mean_plus_minus_std = [(mean_temp + i * std_temp, mean_temp - i * std_temp) for i in range(1, 4)]\n",
    "\n",
    "# Calculate the percentage of months within each range\n",
    "percentages = [(np.sum((data['Value'] <= upper) & (data['Value'] >= lower)) / len(data['Value'])) * 100\n",
    "               for upper, lower in mean_plus_minus_std]\n",
    "\n",
    "for i, (range_values, percentage) in enumerate(zip(mean_plus_minus_std, percentages)):\n",
    "    result_text = f\"For Mean ± {i+1}*std, the range is from {range_values[1]:5.2f}°C to {range_values[0]:5.2f}°C. \"\n",
    "    result_text += f\"About {percentage:5.1f}% of the months fall within this range.\"\n",
    "    print(result_text)\n",
    "\n",
    "\n"
   ]
  }
 ],
 "metadata": {
  "kernelspec": {
   "display_name": "base",
   "language": "python",
   "name": "python3"
  },
  "language_info": {
   "codemirror_mode": {
    "name": "ipython",
    "version": 3
   },
   "file_extension": ".py",
   "mimetype": "text/x-python",
   "name": "python",
   "nbconvert_exporter": "python",
   "pygments_lexer": "ipython3",
   "version": "3.11.7"
  }
 },
 "nbformat": 4,
 "nbformat_minor": 2
}
