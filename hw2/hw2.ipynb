{
 "cells": [
  {
   "cell_type": "code",
   "execution_count": 5,
   "metadata": {},
   "outputs": [
    {
     "name": "stdout",
     "output_type": "stream",
     "text": [
      "                                                   0\n",
      "0     1.1000000e+01   1.4600000e+01   1.4600000e+...\n",
      "1     1.1300000e+01   1.4700000e+01   1.4500000e+...\n",
      "2     1.1200000e+01   1.4700000e+01   1.4500000e+...\n",
      "3     1.1200000e+01   1.4700000e+01   1.4800000e+...\n",
      "4     1.1200000e+01   1.4600000e+01   1.4800000e+...\n",
      "(24, 1)\n"
     ]
    }
   ],
   "source": [
    "# Let's start by loading the data for Taipei from 1961 to 1970\n",
    "# Since we are focusing on July, we need to locate the data for that month\n",
    "# The structure suggests that each row represents an hour and each column a day\n",
    "# We'll first read the file into a pandas dataframe and then parse out July's data\n",
    "\n",
    "import pandas as pd\n",
    "\n",
    "# Load the data from the file\n",
    "taipei_1960s_path = '/Users/ludong/PROGRAM/112-2/Statistics/hw2/data/HW2_Taipei_Ts_1961_1970.txt'\n",
    "taipei_1960s_data = pd.read_csv(taipei_1960s_path, sep=\"\\t\", header=None)\n",
    "\n",
    "# Display the first few rows of the dataframe to understand its structure\n",
    "print(taipei_1960s_data.head())\n",
    "print(taipei_1960s_data.shape)\n",
    "# Calculate the starting index for July of each year from 1961 to 1970\n",
    "# Normal years have 181 days before July, leap years have 182 days before July\n",
    "\n",
    "# Define a function to calculate the index of the first day of July\n",
    "def calculate_july_start_index(year):\n",
    "    # Leap years are divisible by 4, but not on a century unless divisible by 400\n",
    "    # Since we are only dealing with the 1960s, we can simplify the leap year check\n",
    "    leap_year = (year % 4 == 0)\n",
    "    # For a leap year, the first day of July is the 183rd day of the year\n",
    "    # For a normal year, it's the 182nd day\n",
    "    return 183 if leap_year else 182\n",
    "\n",
    "# Calculate the indices for each year in the 1960s\n",
    "july_indices_1960s = [(calculate_july_start_index(year) + (year - 1961) * 365) for year in range(1961, 1971)]\n",
    "\n",
    "# Extract the data for July for each year\n",
    "# Each July has 31 days, so we need to take slices of 31 columns for each year\n",
    "july_data_1960s = pd.concat([taipei_1960s_data.iloc[:, start_index:start_index + 31] for start_index in july_indices_1960s], axis=1)\n",
    "\n",
    "# Now we calculate the mean temperature for each hour across all Julys in the 1960s\n",
    "mean_july_temps_1960s = july_data_1960s.mean(axis=1)\n",
    "\n",
    "# Display the mean July temperatures for each hour in the 1960s\n",
    "#mean_july_temps_1960s\n"
   ]
  }
 ],
 "metadata": {
  "kernelspec": {
   "display_name": "base",
   "language": "python",
   "name": "python3"
  },
  "language_info": {
   "codemirror_mode": {
    "name": "ipython",
    "version": 3
   },
   "file_extension": ".py",
   "mimetype": "text/x-python",
   "name": "python",
   "nbconvert_exporter": "python",
   "pygments_lexer": "ipython3",
   "version": "3.11.7"
  }
 },
 "nbformat": 4,
 "nbformat_minor": 2
}
