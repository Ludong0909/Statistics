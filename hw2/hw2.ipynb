{
 "cells": [
  {
   "cell_type": "markdown",
   "metadata": {},
   "source": [
    "# HW2 for Statistics with Meteorological Application\n",
    "---\n",
    "Student: 林之然 (B11209005, 大氣二), 蔡知諺（B11209014, 大氣二）"
   ]
  },
  {
   "cell_type": "markdown",
   "metadata": {},
   "source": [
    "### Import and set file path"
   ]
  },
  {
   "cell_type": "code",
   "execution_count": 30,
   "metadata": {},
   "outputs": [],
   "source": [
    "import numpy as np\n",
    "import pandas as pd\n",
    "import matplotlib.pyplot as plt\n",
    "\n",
    "file_path_taipei_1960s = './data/HW2_Taipei_Ts_1961_1970.txt'\n",
    "file_path_taipei_2000s = './data/HW2_Taipei_Ts_2001_2010.txt'\n",
    "file_path_taitung_1960s = './data/HW2_Taitung_Ts_1961_1970.txt'\n",
    "file_path_taitung_2000s = './data/HW2_Taitung_Ts_2001_2010.txt'\n"
   ]
  },
  {
   "cell_type": "markdown",
   "metadata": {},
   "source": [
    "### Define function"
   ]
  },
  {
   "cell_type": "code",
   "execution_count": 31,
   "metadata": {},
   "outputs": [],
   "source": [
    "# Function to read the temperature data from text file and extract data for July\n",
    "def read_temperature_data(file_path):\n",
    "    # Read the data into a DataFrame\n",
    "    df = pd.read_csv(file_path, delim_whitespace=True, header=None)\n",
    "    \n",
    "    # Each column is a day of the year, so for July (the 7th month) we take columns from 181 to 211 (31 days of July)\n",
    "    # considering that the year starts on column index 0\n",
    "    # We also need to account for leap years within the 1961-1970 range, which are 1964 and 1968\n",
    "    # So for these years, July starts one day later (182 to 212)\n",
    "    july_data = pd.DataFrame()\n",
    "    for year in range(1961, 1971):\n",
    "        if year % 4 == 0:  # Leap year\n",
    "            start_day = 182 + (year - 1961) * 365 + (year - 1961) // 4\n",
    "        else:\n",
    "            start_day = 181 + (year - 1961) * 365 + (year - 1961) // 4\n",
    "        end_day = start_day + 31\n",
    "        july_data = pd.concat([july_data, df.iloc[:, start_day:end_day]], axis=1)\n",
    "    \n",
    "    return july_data \n",
    "\n",
    "\n",
    "# Function to calculate mean maximum and minimum temperatures for July for a given data set\n",
    "def calculate_mean_max_min(july_data):\n",
    "    # Calculate daily max and min temperatures\n",
    "    daily_max_temps = july_data.max(axis=0)\n",
    "    daily_min_temps = july_data.min(axis=0)\n",
    "    \n",
    "    # Calculate mean of the daily max and min temperatures for July\n",
    "    mean_max_temp = daily_max_temps.mean()\n",
    "    mean_min_temp = daily_min_temps.mean()\n",
    "    \n",
    "    return mean_max_temp, mean_min_temp\n",
    "\n",
    "# Function to calculate mean DTR and variance of temperatures for July for a given data set\n",
    "def calculate_DTR_variance(july_data):\n",
    "    # Calculate daily max and min temperatures\n",
    "    daily_max_temps = july_data.max(axis=0)\n",
    "    daily_min_temps = july_data.min(axis=0)    \n",
    "    \n",
    "    # Calculate DTR\n",
    "    DTR = daily_max_temps - daily_min_temps\n",
    "    \n",
    "    # Calculate mean DTR\n",
    "    DTR_mean = DTR.mean()   \n",
    "    \n",
    "    # Calculate variance\n",
    "    var_temp = july_data.var(axis=0)\n",
    "    var_mean = var_temp.mean()\n",
    "    \n",
    "    return DTR_mean, var_mean\n",
    " \n"
   ]
  },
  {
   "cell_type": "markdown",
   "metadata": {},
   "source": [
    "### Calculate and plot"
   ]
  },
  {
   "cell_type": "markdown",
   "metadata": {},
   "source": [
    "#### 2.1 Calculate mean temperature of July in each station"
   ]
  },
  {
   "cell_type": "code",
   "execution_count": 32,
   "metadata": {},
   "outputs": [
    {
     "name": "stdout",
     "output_type": "stream",
     "text": [
      "mean temp in July 1960s, Taipei  = 26.41\n",
      "mean temp in July 2000s, Taipei  = 27.46\n",
      "mean temp in July 1960s, Taitung = 26.90\n",
      "mean temp in July 2000s, Taitung = 27.60\n"
     ]
    }
   ],
   "source": [
    "# Read the Taipei temperature data for the 1960s\n",
    "july_temps_taipei_1960s = read_temperature_data(file_path_taipei_1960s)\n",
    "\n",
    "# Compute the mean Ts for July for the 1960s for Taipei station\n",
    "mean_july_temps_taipei_1960s = july_temps_taipei_1960s.mean().mean()  # Mean of all July data (310 month)\n",
    "print(f\"mean temp in July 1960s, Taipei  = {mean_july_temps_taipei_1960s :.2f}\")\n",
    "\n",
    "# Read the Taipei temperature data for the 2000s\n",
    "july_temps_taipei_2000s = read_temperature_data(file_path_taipei_2000s)\n",
    "\n",
    "# Compute the mean Ts for July for the 2000s for Taipei station\n",
    "mean_july_temps_taipei_2000s = july_temps_taipei_2000s.mean().mean()  # Mean of all July data\n",
    "print(f\"mean temp in July 2000s, Taipei  = {mean_july_temps_taipei_2000s :.2f}\")\n",
    "\n",
    "# Read the Taitung temperature data for the 1960s\n",
    "july_temps_taitung_1960s = read_temperature_data(file_path_taitung_1960s)\n",
    "\n",
    "# Compute the mean Ts for July for the 1960s for Taitung station\n",
    "mean_july_temps_taitung_1960s = july_temps_taitung_1960s.mean().mean()  # Mean of all July data\n",
    "print(f\"mean temp in July 1960s, Taitung = {mean_july_temps_taitung_1960s :.2f}\")\n",
    "\n",
    "# Read the Taitung temperature data for the 2000s\n",
    "july_temps_taitung_2000s = read_temperature_data(file_path_taitung_2000s)\n",
    "\n",
    "# Compute the mean Ts for July for the 2000s for Taitung station\n",
    "mean_july_temps_taitung_2000s = july_temps_taitung_2000s.mean().mean()  # Mean of all July data\n",
    "print(f\"mean temp in July 2000s, Taitung = {mean_july_temps_taitung_2000s :.2f}\")\n"
   ]
  },
  {
   "cell_type": "markdown",
   "metadata": {},
   "source": [
    "#### 2.2 Calculate Max/min temperature of July in each station"
   ]
  },
  {
   "cell_type": "code",
   "execution_count": 33,
   "metadata": {},
   "outputs": [
    {
     "name": "stdout",
     "output_type": "stream",
     "text": [
      "In July 1960s, Taipei:  Max temp = 30.72, min temp = 23.18\n",
      "In July 2000s, Taipei:  Max temp = 31.28, min temp = 24.54\n",
      "In July 1960s, Taitung: Max temp = 30.36, min temp = 23.90\n",
      "In July 2000s, Taitung: Max temp = 30.88, min temp = 24.85\n"
     ]
    }
   ],
   "source": [
    "# Calculate mean max and min temperatures for Taipei 1960s\n",
    "mean_max_temp_taipei_1960s, mean_min_temp_taipei_1960s = calculate_mean_max_min(july_temps_taipei_1960s)\n",
    "print(f\"In July 1960s, Taipei: \", \n",
    "      f\"Max temp = {mean_max_temp_taipei_1960s :.2f},\",\n",
    "      f\"min temp = {mean_min_temp_taipei_1960s :.2f}\")\n",
    "\n",
    "# Calculate mean max and min temperatures for Taipei 2000s\n",
    "mean_max_temp_taipei_2000s, mean_min_temp_taipei_2000s = calculate_mean_max_min(july_temps_taipei_2000s)\n",
    "print(f\"In July 2000s, Taipei: \", \n",
    "      f\"Max temp = {mean_max_temp_taipei_2000s :.2f},\",\n",
    "      f\"min temp = {mean_min_temp_taipei_2000s :.2f}\")\n",
    "\n",
    "# Calculate mean max and min temperatures for Taitung 1960s\n",
    "mean_max_temp_taitung_1960s, mean_min_temp_taitung_1960s = calculate_mean_max_min(july_temps_taitung_1960s)\n",
    "print(f\"In July 1960s, Taitung:\", \n",
    "      f\"Max temp = {mean_max_temp_taitung_1960s :.2f},\",\n",
    "      f\"min temp = {mean_min_temp_taitung_1960s :.2f}\")\n",
    "\n",
    "# Calculate mean max and min temperatures for Taitung 2000s\n",
    "mean_max_temp_taitung_2000s, mean_min_temp_taitung_2000s = calculate_mean_max_min(july_temps_taitung_2000s)\n",
    "print(f\"In July 2000s, Taitung:\", \n",
    "      f\"Max temp = {mean_max_temp_taitung_2000s :.2f},\",\n",
    "      f\"min temp = {mean_min_temp_taitung_2000s :.2f}\")"
   ]
  },
  {
   "cell_type": "markdown",
   "metadata": {},
   "source": [
    "#### 2.3 Calculate DTR and temperature variance in July in each station"
   ]
  },
  {
   "cell_type": "code",
   "execution_count": 34,
   "metadata": {},
   "outputs": [
    {
     "name": "stdout",
     "output_type": "stream",
     "text": [
      "In July 1960s, Taipei:  DTR = 7.54, var of temp = 7.15\n",
      "In July 2000s, Taipei:  DTR = 6.74, var of temp = 5.27\n",
      "In July 1960s, Taitung:  DTR = 6.46, var of temp = 5.11\n",
      "In July 2000s, Taitung:  DTR = 6.03, var of temp = 4.08\n"
     ]
    }
   ],
   "source": [
    "mean_DTR_taipei_1960s, mean_var_taipei_1960s = calculate_DTR_variance(july_temps_taipei_1960s)\n",
    "print(f\"In July 1960s, Taipei: \", \n",
    "      f\"DTR = {mean_DTR_taipei_1960s :.2f},\",\n",
    "      f\"var of temp = {mean_var_taipei_1960s :.2f}\")\n",
    "\n",
    "mean_DTR_taipei_2000s, mean_var_taipei_2000s = calculate_DTR_variance(july_temps_taipei_2000s)\n",
    "print(f\"In July 2000s, Taipei: \", \n",
    "      f\"DTR = {mean_DTR_taipei_2000s :.2f},\",\n",
    "      f\"var of temp = {mean_var_taipei_2000s :.2f}\")\n",
    "\n",
    "mean_DTR_taitung_1960s, mean_var_taitung_1960s = calculate_DTR_variance(july_temps_taitung_1960s)\n",
    "print(f\"In July 1960s, Taitung: \", \n",
    "      f\"DTR = {mean_DTR_taitung_1960s :.2f},\",\n",
    "      f\"var of temp = {mean_var_taitung_1960s :.2f}\")\n",
    "\n",
    "mean_DTR_taitung_2000s, mean_var_taitung_2000s = calculate_DTR_variance(july_temps_taitung_2000s)\n",
    "print(f\"In July 2000s, Taitung: \", \n",
    "      f\"DTR = {mean_DTR_taitung_2000s :.2f},\",\n",
    "      f\"var of temp = {mean_var_taitung_2000s :.2f}\")"
   ]
  },
  {
   "cell_type": "markdown",
   "metadata": {},
   "source": [
    "#### 2.4 Plot average diurnal cycle for 1960s and 2000s "
   ]
  }
 ],
 "metadata": {
  "kernelspec": {
   "display_name": "base",
   "language": "python",
   "name": "python3"
  },
  "language_info": {
   "codemirror_mode": {
    "name": "ipython",
    "version": 3
   },
   "file_extension": ".py",
   "mimetype": "text/x-python",
   "name": "python",
   "nbconvert_exporter": "python",
   "pygments_lexer": "ipython3",
   "version": "3.11.7"
  }
 },
 "nbformat": 4,
 "nbformat_minor": 2
}
