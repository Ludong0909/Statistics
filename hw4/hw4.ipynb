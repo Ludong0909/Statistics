{
 "cells": [
  {
   "cell_type": "markdown",
   "metadata": {},
   "source": [
    "<font face='serif' size=4>\n",
    "<span style=\"line-height: 1.25;\">\n",
    "\n",
    "# HW4 for Statistics with Meteorological Application\n",
    "---\n",
    "Student: 林之然 (B11209005, 大氣二), 蔡知諺（B11209014, 大氣二）"
   ]
  },
  {
   "cell_type": "markdown",
   "metadata": {},
   "source": [
    "<font face='serif' size=4>\n",
    "<span style=\"line-height: 1.25;\">\n",
    "\n",
    "## 4.1 \n",
    "\n",
    "### a. 問ChatGPT 有關信賴區間的意義，並仔細評論其所描述是否合理？"
   ]
  },
  {
   "cell_type": "markdown",
   "metadata": {},
   "source": [
    "<font face='cursive' size=4>\n",
    "<span style=\"line-height: 1.25;\">\n",
    "\n",
    "> ##### GPTs-Statistic-Guru:\n",
    ">\n",
    "> 信賴區間（Confidence Interval, CI）是統計學中一個非常重要的概念，用於表示估計值的不確定性。它提供了一個範圍，我們相信這個範圍以一定的概率（通常是95%）包含了真正的參數值。換句話說，信賴區間給出了對某個參數的最佳估計值以及這個估計值的可靠程度。\n",
    "> \n",
    "> 舉例來說，如果我們對某個人群的平均身高進行估計，並計算出95%的信賴區間是160cm到170cm，這意味著我們有95%的信心相信，這個人群的真實平均身高將位於160cm到170cm之間。\n",
    ">\n",
    "> 信賴區間的關鍵特點包括：\n",
    ">\n",
    "> 1. **置信水平**：信賴區間通常伴隨一個置信水平，如95%或99%，表示如果我們從同一總體中反覆抽樣多次，則預計有95%（或99%）的信賴區間將包含真正的參數值。\n",
    ">\n",
    "> 2. **寬度**：信賴區間的寬度可以反映估計的精確性。一般來說，區間越窄，估計的不確定性越小。區間的寬度受到樣本大小和數據變異性的影響。\n",
    ">\n",
    "> 3. **解釋**：信賴區間的正確解釋是指在類似的實驗或觀察條件下重複多次時，有一定比例的信賴區間將包含真正的參數值。不應將其解釋為“真實參數值有95%的概率位於這個區間內”，因為參數值是固定的，而信賴區間是基於樣本而變化的。\n",
    ">\n",
    "> 理解信賴區間有助於在統計分析中正確評估和報告結果的不確定性，是進行科學研究和數據分析時不可或缺的一部分。"
   ]
  },
  {
   "cell_type": "markdown",
   "metadata": {},
   "source": [
    "<font face='serif' size=4>\n",
    "<span style=\"line-height: 1.25;\">\n",
    "\n",
    "#### Our Comments:\n",
    "\n",
    "我們認為 Chat GPT 對信賴區間列點的解釋相當精確，描述了信心水準的意義、信賴區間寬度的統計意義，並正確解釋了信心水準與「是否包含母體參數」的相互關係。\n",
    "但是在回覆的第三行，「</font><font face='cursive' size=4>我們相信這個範圍以一定的概率（通常是95%）包含了真正的參數值</font><font face='serif' size=4>」文句是錯誤的，並與跟底下的列點解釋互相抵觸。我們認為這樣的錯誤乃因 ChatGPT 是採用 Transformer 架構，動態生成最適合的文字，其預訓練（Pre-train）資料若包含許多關於信心水準的錯誤描述（如同老師所說，甚至有些統計學課本採用了錯誤的解釋），很容易就會在回答時走向錯誤的方向。但 ChatGPT 在緊接的下文中能回答出正確的資訊也讓我們感到十分有趣。\n",
    "\n",
    "此外，第二段「</font><font face='cursive' size=4>這意味著我們有95%的信心相信，這個人群的真實平均身高將位於160cm到170cm之間。</font><font face='serif' size=4>」的論點讓我們思考良久。我們認為既然信心水準是用於表示信賴區間的正確性，那我們自然有 95% 的信心相信母體參數位於區間內。回過頭來，這樣的論述與「母體參數有 95% 的機率落在區間內」的錯誤論述實在是很接近，「信心」與「機率」究竟有何差別，實在是一個相當困難的哲學問題，需要好好地思考並釐清。"
   ]
  },
  {
   "cell_type": "markdown",
   "metadata": {},
   "source": [
    "<font face='serif' size=4>\n",
    "<span style=\"line-height: 1.25;\">\n",
    "\n",
    "### b. 下列對信賴區間的敘述，請問是否合理？\n",
    "\n",
    "「<font face='cursive' size=4>信賴區間展現的是，這個參數的真實值有一定機率落在與該測量結果有關的某對應區間。信賴區間給出的是，聲稱總體參數的真實值在測量值的區間所具有的可信程度，即前面所要求的「一定機率」。這個機率被稱為信心水準。舉例來說，如果在一次大選中某人的支持率為55%，而信心水準0.95上的信賴區間是（50%，60%），那麼他的真實支持率落在50%和60%之區間的機率為95%，因此他的真實支持率不足50%的可能性小於2.5%（假設分布是對稱的）。</font>」\n"
   ]
  },
  {
   "cell_type": "markdown",
   "metadata": {},
   "source": [
    "<font face='serif' size=4>\n",
    "<span style=\"line-height: 1.25;\">\n",
    "\n",
    "#### A: 這段敘述中的一些表述是不合理的。具體來說：\n",
    "\n",
    "1. **機率的誤解**：「這個參數的真實值有一定機率落在與該測量結果有關的某對應區間」這種說法是不準確的。信賴區間的正確理解應該是：如果我們從同一總體中進行多次獨立抽樣，並對每次抽樣計算信賴區間，則有95%（或其他信心水準）的信賴區間將包含這個參數的真實值。**信賴區間不是對單一實驗結果的真實參數值落在某一範圍內的機率陳述。**\n",
    " \n",
    "2. **真實值的靜態性**：「那麼他的真實支持率落在50%和60%之區間的機率為95%」這個表述也是錯誤的。真實的參數值是一個固定的數值，它不是隨機變動的，因此談不上有機率落在某個區間內。信賴區間的意思是我們對於包含這個真實值的區間有95%的信心。「**我們可以有95%的信心認為，真實的支持率會落在50%到60%的這個信賴區間內。**」會是較準確的說法。\n",
    " \n",
    "3. **對稱性的假設**：“因此他的真實支持率不足50%的可能性小於2.5%（假設分布是對稱的）”這句話假設了信賴區間是對稱的，這可能不總是成立的，特別是在樣本量較小或者資料分布非常偏斜的情況下。信賴區間的確切形狀和範圍取決於數據的分布和樣本大小。\n",
    " \n",
    "總之，信賴區間給出的是在類似的研究條件下，結果會如何波動，並非對單次測量結果中真實值的概率分布的描述。"
   ]
  },
  {
   "cell_type": "markdown",
   "metadata": {},
   "source": [
    "<font face='serif' size=4>\n",
    "<span style=\"line-height: 1.25;\">\n",
    "\n",
    "## 4.2 \n",
    "\n",
    "森林研究者測量 100 顆杉樹的高度，發現平均數 $\\bar x = 3.1$ 公尺、 $S = 0.7$ 公尺。於是他求出杉樹平均高度的 95% 信賴區間為:\t\n",
    "$$\n",
    "    (3.1 - 1.96 \\dfrac{0.7}{\\sqrt {100}} , 3.1 + 1.96 \\dfrac{0.7}{\\sqrt {100}} ) \\approx [2.96, 3.24]\n",
    "$$\n"
   ]
  },
  {
   "cell_type": "markdown",
   "metadata": {},
   "source": [
    "<font face='serif' size=4>\n",
    "<span style=\"line-height: 1.25;\">\n",
    "\n",
    "### a. 此敘述是否正確?\n",
    "\n",
    "由於已知資訊只有樣本平均 $\\bar{x}$ 以及樣本標準差 $S$ （並可推得樣本標準誤），以下執行使用 t 分佈計算之結果，與題幹相符。但題目並沒有講明它的計算方式其實是使用中央極限定理、 z 分佈（z critical: $z_{0.05/2}= 1.960$），雖然在樣本數夠大（>30）的狀況下因為 z-distribution 與 t-distribution 近似，信賴區間不會差太多（t critical: $z_{0.05/2}= 1.984$），但這樣的說明與計算相當不嚴謹，故敘述不完全正確。"
   ]
  },
  {
   "cell_type": "code",
   "execution_count": 1,
   "metadata": {},
   "outputs": [
    {
     "name": "stdout",
     "output_type": "stream",
     "text": [
      "Confidence interval = [2.96, 3.24] [m]\n",
      "T critical = 1.984\n",
      "Z critical = 1.960\n"
     ]
    }
   ],
   "source": [
    "from scipy.stats import t, norm\n",
    "import numpy as np\n",
    "\n",
    "# Given data\n",
    "sample_mean = 3.1  \n",
    "sample_std = 0.7    \n",
    "n = 100            \n",
    "confidence_level = 0.95\n",
    "\n",
    "# free level\n",
    "df = n - 1\n",
    "\n",
    "# Using t table\n",
    "t_critical = t.ppf((1 + confidence_level) / 2, df)\n",
    "z_critical = norm.ppf((1 + confidence_level)/2)\n",
    "\n",
    "# Calculate std\n",
    "standard_error = sample_std / np.sqrt(n)\n",
    "\n",
    "# Calculate confience level\n",
    "confidence_interval = (sample_mean - t_critical * standard_error, \n",
    "                       sample_mean + t_critical * standard_error)\n",
    "\n",
    "print(f\"Confidence interval = [{confidence_interval[0]:.2f}, {confidence_interval[1]:.2f}] [m]\")\n",
    "print(f\"T critical = {t_critical:.3f}\")\n",
    "print(f\"Z critical = {z_critical:.3f}\")"
   ]
  },
  {
   "cell_type": "markdown",
   "metadata": {},
   "source": [
    "<font face='serif' size=4>\n",
    "<span style=\"line-height: 1.25;\">\n",
    "\n",
    "### b. 區間 [2.96, 3.24] 是否有 0.95 的機率涵蓋真實的平均數？"
   ]
  },
  {
   "cell_type": "markdown",
   "metadata": {},
   "source": [
    "<font face='serif' size=4>\n",
    "<span style=\"line-height: 1.25;\">\n",
    "\n",
    "當我們說一個95%的信賴區間為 [2.96, 3.24]，這並不代表這個區間有 95% 的機率包含真實的平均高度。這個 95% 的信賴區間是基於抽樣分布的概念，這意味著如果我們進行很多次獨立的相同實驗，則其中 95% 的實驗將會計算出包含真實平均數的信賴區間。\n",
    "\n",
    "信賴區間並不直接給出單次估計中包含參數真實值的機率。它反映的是我們的估計方法的可靠性。如果方法可靠，並且我們假設所有的統計假設都被滿足（例如，樣本是隨機抽取的，觀測是獨立的，數據遵循常態分布等），則我們可以相信在類似條件下重複抽樣與計算信賴區間多次，大約有 95% 的信賴區間會包含母體參數。\n",
    "\n",
    "為了計算信賴區間，通常需要知道樣本大小 （$n$），樣本平均（$\\bar{x}$），樣本標準差（$S$），並根據樣本大小決定使用 z-table (n>30) 或 t-table (n<30)。信賴區間可以用來推斷平均樹高的真實值，但它不代表該區間有95%的概率實際包含了真實的平均樹高。"
   ]
  },
  {
   "cell_type": "markdown",
   "metadata": {},
   "source": [
    "<font face='serif' size=4>\n",
    "<span style=\"line-height: 1.25;\">\n",
    "\n",
    "## 4.3 \n",
    "\n",
    "某飲料機之平均分配量為 240 c.c.，標準差 15 c.c.，每隔一段時間，從機器抽出 40 杯作為樣品，並計算平均含量。若此 40 杯的平均含量落在區間內 $\\mu_{\\bar{𝑋}} ± 2\\sigma_{\\bar{𝑋}}$ ，則認為此機器操作良好，否則，必須調整。某公司職員求得 40 杯的平均數為 $\\bar 𝑋 =236$ c.c.，同時推斷此機器不需調整。此推斷是否合理? \n"
   ]
  },
  {
   "cell_type": "code",
   "execution_count": 2,
   "metadata": {},
   "outputs": [
    {
     "name": "stdout",
     "output_type": "stream",
     "text": [
      "Sample mean = 236 [c.c.]\n",
      "Standard error = 2.37 [c.c]\n",
      "Mean range = [235.26, 244.74] [c.c.]\n",
      "Is sample mean in the range?  True\n"
     ]
    }
   ],
   "source": [
    "# Given data\n",
    "population_mean = 240  # mu\n",
    "population_std = 15    # sigma\n",
    "sample_size = 40       # sample size\n",
    "sample_mean = 236      # x bar\n",
    "\n",
    "# Calculate standar error\n",
    "standard_error = population_std / np.sqrt(sample_size)\n",
    "\n",
    "# Calculate mean range $\\mu_{\\bar{𝑋}} ± 2\\sigma_{\\bar{𝑋}}$\n",
    "mean_range = (population_mean - 2 * standard_error, population_mean + 2 * standard_error)\n",
    "\n",
    "# Check if the sample mean falls in the range\n",
    "is_within_range = mean_range[0] <= sample_mean <= mean_range[1]\n",
    "\n",
    "(standard_error, mean_range, is_within_range)\n",
    "\n",
    "print(f\"Sample mean = {sample_mean} [c.c.]\")\n",
    "print(f\"Standard error = {standard_error:.2f} [c.c]\")\n",
    "print(f\"Mean range = [{mean_range[0]:.2f}, {mean_range[1]:.2f}] [c.c.]\")\n",
    "print(f\"Is sample mean in the range?  {is_within_range}\")"
   ]
  },
  {
   "cell_type": "markdown",
   "metadata": {},
   "source": [
    "<font face='serif' size=4>\n",
    "<span style=\"line-height: 1.25;\">\n",
    "\n",
    "### Answer\n",
    "經過計算，此推斷合理。"
   ]
  },
  {
   "cell_type": "markdown",
   "metadata": {},
   "source": [
    "<font face='serif' size=4>\n",
    "<span style=\"line-height: 1.25;\">\n",
    "\n",
    "### Comments\n",
    "\n",
    "相較於前幾題使用信賴區間的概念，並在信心水準的定義上琢磨了一番，此題的統計概念相較起來單純一些，是在已知正確母體參數的情況下，將抽樣的樣本參數用於機器功能的檢驗。與信賴區間使用樣本平均 $\\bar{X}$ 不同，這裡使用母體平均 $\\mu$ 加減兩個標準誤作為樣本是否為 outlier 的標準。實際上，這樣的作法等同於在已知母體參數的情況下抽樣建立信賴區間並檢驗其是否包含母體參數：在統計上這幫助我們標出了較為偏離母體的抽樣，現實中則因我們不希望機器連續產生偏離母體的樣本，因此這指向了機器度量的偏誤。在上題雖然樣本平均仍在範圍中，但其實已經相當接近兩個標準誤的邊界，或許代表機器其實存在一些問題，若抽出更大的樣本進行檢驗，可以幫助我們更精確地辨識機器的誤差。"
   ]
  },
  {
   "cell_type": "markdown",
   "metadata": {},
   "source": [
    "<font face='serif' size=4>\n",
    "<span style=\"line-height: 1.25;\">\n",
    "\n",
    "## 4.4 閱讀文章並討論"
   ]
  },
  {
   "cell_type": "markdown",
   "metadata": {},
   "source": [
    "<font face='serif' size=4>\n",
    "<span style=\"line-height: 1.25;\">\n",
    "\n",
    "### 啤酒的科學與統計的結合\n",
    "\n",
    "19世紀末期，隨著工業革命的發展，健力士意識到要在新世紀的世界啤酒市場保持領先地位，必須採取科學方法和實際數據來改進其啤酒的釀造過程和品質。於是，健力士聘請了威廉‧希力‧戈斯特（William Sealy Gosset），一位剛從牛津大學畢業的年輕人，來負責這一任務。\n",
    "\n",
    "戈斯特的主要任務是精確估計釀造過程中酵母菌的數量，這對於保證啤酒品質的一致性至關重要。酵母菌太少，發酵不完全；酵母菌過多，則啤酒過於苦澀。戈斯特利用卜瓦松分布，一種用於描述單位體積或時間內稀少事件發生次數的統計分布，來解決這一問題。\n",
    "\n",
    "### 統計學的創新：學生氏t檢定 (Student's t-test)\n",
    "\n",
    "戈斯特的一項重要貢獻是發明了學生氏t檢定 (Student's t-test)，這一統計工具使科學家和工程師能夠更有效地分析小樣本數據。這項技術的發展是出於實際需求，因為在許多科學實驗和工業應用中，獲取大量數據既昂貴又不切實際。\n",
    "\n",
    "### 執行困難度\n",
    "\n",
    "戈斯特的工作面臨著幾個主要的執行困難：\n",
    "\n",
    "1. **數據收集的挑戰**：在沒有現代化工具和技術的情況下，手動收集和分析數據是一項艱巨的任務。\n",
    "2. **小樣本統計方法的創新**：當時的統計學界尚未充分解決小樣本情況下的分析問題，戈斯特的工作填補了這一空白。\n",
    "3. **獨立進行研究**：由於公司政策的限制，戈斯特必須在業餘時間進行研究，而沒有足夠的資源支持。\n",
    "\n",
    "### 道德疑慮\n",
    "\n",
    "戈斯特的研究歷程也引發了一些道德問題：\n",
    "\n",
    "1. **發表研究成果的權利**：健力士的政策禁止員工發表研究成果，這種做法限制了知識的自由流動和學術交流。\n",
    "2. **秘密進行研究**：戈斯特以筆名發表研究，雖然這是為了避開公司的限制，但也凸顯了工作場所對於學術自由的限制。\n",
    "3. **使用犯人數據的倫理問題**：他的一些研究利用了犯人的身體特徵數據，按照今天的標準，這可能會被認為是對參與者權利和隱私的侵犯。\n",
    "\n",
    "### 結論\n",
    "\n",
    "儘管戈斯特的研究過程中存在諸多挑戰和道德疑慮，但他對統計學的貢獻是不可否認的。學生氏t檢定不僅在當時為健力士酒廠解決了實際問題，而且後來成為科學研究和工業應用中不可或缺的工具。戈斯特的故事是一個關於創新、毅力和對知識追求的鼓舞人心的例子，提醒我們在科學探索和技術進步的道路上，既要勇於創新，也要關注我們的行為對社會和倫理規範的影響。"
   ]
  }
 ],
 "metadata": {
  "kernelspec": {
   "display_name": "base",
   "language": "python",
   "name": "python3"
  },
  "language_info": {
   "codemirror_mode": {
    "name": "ipython",
    "version": 3
   },
   "file_extension": ".py",
   "mimetype": "text/x-python",
   "name": "python",
   "nbconvert_exporter": "python",
   "pygments_lexer": "ipython3",
   "version": "3.11.7"
  }
 },
 "nbformat": 4,
 "nbformat_minor": 2
}
