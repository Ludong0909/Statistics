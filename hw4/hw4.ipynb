{
 "cells": [
  {
   "cell_type": "markdown",
   "metadata": {},
   "source": [
    "<font face='serif' size=4>\n",
    "<span style=\"line-height: 1.25;\">\n",
    "\n",
    "# HW4 for Statistics with Meteorological Application\n",
    "---\n",
    "Student: 林之然 (B11209005, 大氣二), 蔡知諺（B11209014, 大氣二）"
   ]
  },
  {
   "cell_type": "markdown",
   "metadata": {},
   "source": [
    "<font face='serif' size=4>\n",
    "<span style=\"line-height: 1.25;\">\n",
    "\n",
    "### 4.1 \n",
    "\n",
    "#### a. 問ChatGPT 有關信賴區間的意義，並仔細評論其所描述是否合理？"
   ]
  },
  {
   "cell_type": "markdown",
   "metadata": {},
   "source": [
    "<font face='cursive' size=4>\n",
    "<span style=\"line-height: 1.25;\">\n",
    "\n",
    "> ##### GPTs-Statistic-Guru:\n",
    ">\n",
    "> 信賴區間（Confidence Interval, CI）是統計學中一個非常重要的概念，用於表示估計值的不確定性。它提供了一個範圍，我們相信這個範圍以一定的概率（通常是95%）包含了真正的參數值。換句話說，信賴區間給出了對某個參數的最佳估計值以及這個估計值的可靠程度。\n",
    "> \n",
    "> 舉例來說，如果我們對某個人群的平均身高進行估計，並計算出95%的信賴區間是160cm到170cm，這意味著我們有95%的信心相信，這個人群的真實平均身高將位於160cm到170cm之間。\n",
    ">\n",
    "> 信賴區間的關鍵特點包括：\n",
    ">\n",
    "> 1. **置信水平**：信賴區間通常伴隨一個置信水平，如95%或99%，表示如果我們從同一總體中反覆抽樣多次，則預計有95%（或99%）的信賴區間將包含真正的參數值。\n",
    ">\n",
    "> 2. **寬度**：信賴區間的寬度可以反映估計的精確性。一般來說，區間越窄，估計的不確定性越小。區間的寬度受到樣本大小和數據變異性的影響。\n",
    ">\n",
    "> 3. **解釋**：信賴區間的正確解釋是指在類似的實驗或觀察條件下重複多次時，有一定比例的信賴區間將包含真正的參數值。不應將其解釋為“真實參數值有95%的概率位於這個區間內”，因為參數值是固定的，而信賴區間是基於樣本而變化的。\n",
    ">\n",
    "> 理解信賴區間有助於在統計分析中正確評估和報告結果的不確定性，是進行科學研究和數據分析時不可或缺的一部分。"
   ]
  },
  {
   "cell_type": "markdown",
   "metadata": {},
   "source": [
    "<font face='serif' size=4>\n",
    "<span style=\"line-height: 1.25;\">\n",
    "\n",
    "##### Our Comments:\n",
    "\n",
    "我們認為 Chat GPT 對信賴區間列點的解釋相當精確，描述了信心水準的意義、信賴區間寬度的統計意義，並正確解釋了信心水準與「是否包含母體參數」的相互關係。\n",
    "但是在回覆的第三行，「</font><font face='cursive' size=4>我們相信這個範圍以一定的概率（通常是95%）包含了真正的參數值</font><font face='serif' size=4>」文句是錯誤的，並與跟底下的列點解釋互相抵觸。我們認為這樣的錯誤乃因 ChatGPT 是採用 Transformer 架構，動態生成最適合的文字，其預訓練（Pre-train）資料若包含許多關於信心水準的錯誤描述（如同老師所說，甚至有些課本採用了錯誤的解釋），很容易就會在回答時走向錯誤的方向。但 ChatGPT 在下文中能回答出正確的資訊也讓我們感到十分有趣。\n",
    "\n",
    "此外，第二段「</font><font face='cursive' size=4>這意味著我們有95%的信心相信，這個人群的真實平均身高將位於160cm到170cm之間。</font><font face='serif' size=4>」的論點讓我們思考良久。我們認為既然信心水準是用於表示信賴區間的正確性，那我們自然有 95% 的信心相信母體參數位於區間內。回過頭來，這樣的論述與「母體參數有 95% 的機率落在區間內」的錯誤論述實在是很接近，「信心」與「機率」究竟有何差別，實在是一個相當困難的哲學問題，需要好好地思考並釐清。"
   ]
  },
  {
   "cell_type": "markdown",
   "metadata": {},
   "source": [
    "<font face='serif' size=4>\n",
    "<span style=\"line-height: 1.25;\">\n",
    "\n",
    "#### b. 下列對信賴區間的敘述，請問是否合理？\n",
    "\n",
    "「<font face='cursive' size=4>信賴區間展現的是，這個參數的真實值有一定機率落在與該測量結果有關的某對應區間。信賴區間給出的是，聲稱總體參數的真實值在測量值的區間所具有的可信程度，即前面所要求的「一定機率」。這個機率被稱為信心水準。舉例來說，如果在一次大選中某人的支持率為55%，而信心水準0.95上的信賴區間是（50%，60%），那麼他的真實支持率落在50%和60%之區間的機率為95%，因此他的真實支持率不足50%的可能性小於2.5%（假設分布是對稱的）。</font>」\n"
   ]
  },
  {
   "cell_type": "markdown",
   "metadata": {},
   "source": [
    "<font face='serif' size=4>\n",
    "<span style=\"line-height: 1.25;\">\n",
    "\n",
    "> ##### A: 這段敘述中的一些表述是不合理的。具體來說：\n",
    ">\n",
    "> 1. **機率的誤解**：「這個參數的真實值有一定機率落在與該測量結果有關的某對應區間」這種說法是不準確的。信賴區間的正確理解應該是：如果我們從同一總體中進行多次獨立抽樣，並對每次抽樣計算信賴區間，則有95%（或其他信心水準）的信賴區間將包含這個參數的真實值。**信賴區間不是對單一實驗結果的真實參數值落在某一範圍內的機率陳述。**\n",
    "> \n",
    "> 2. **真實值的靜態性**：「那麼他的真實支持率落在50%和60%之區間的機率為95%」這個表述也是錯誤的。真實的參數值是一個固定的數值，它不是隨機變動的，因此談不上有機率落在某個區間內。信賴區間的意思是我們對於包含這個真實值的區間有95%的信心。「**我們可以有95%的信心認為，真實的支持率會落在50%到60%的這個信賴區間內。**」會是較準確的說法。\n",
    "> \n",
    "> 3. **對稱性的假設**：“因此他的真實支持率不足50%的可能性小於2.5%（假設分布是對稱的）”這句話假設了信賴區間是對稱的，這可能不總是成立的，特別是在樣本量較小或者資料分布非常偏斜的情況下。信賴區間的確切形狀和範圍取決於數據的分布和樣本大小。\n",
    "> \n",
    "> 總之，信賴區間給出的是在類似的研究條件下，結果會如何波動，並非對單次測量結果中真實值的概率分布的描述。"
   ]
  },
  {
   "cell_type": "markdown",
   "metadata": {},
   "source": [
    "<font face='serif' size=4>\n",
    "<span style=\"line-height: 1.25;\">\n",
    "\n",
    "### 4.2 \n",
    "\n",
    "森林研究者測量 100 顆杉樹的高度，發現平均數 $\\bar x = 3.1$ 公尺、 $S = 0.7$ 公尺。於是他求出杉樹平均高度的 95% 信賴區間為:\t\n",
    "$$\n",
    "    (3.1 - 1.96 \\dfrac{0.7}{\\sqrt 100} , 3.1 + 1.96 \\dfrac{0.7}{\\sqrt 100} ) \\approx [2.96, 3.24]\n",
    "$$\n"
   ]
  },
  {
   "cell_type": "markdown",
   "metadata": {},
   "source": [
    "<font face='serif' size=4>\n",
    "<span style=\"line-height: 1.25;\">\n",
    "\n",
    "#### a. 此敘述是否正確?\n"
   ]
  },
  {
   "cell_type": "code",
   "execution_count": 2,
   "metadata": {},
   "outputs": [
    {
     "name": "stdout",
     "output_type": "stream",
     "text": [
      "Confidence interval = [2.96, 3.24] [m]\n"
     ]
    }
   ],
   "source": [
    "from scipy.stats import t\n",
    "import numpy as np\n",
    "\n",
    "# Given data\n",
    "sample_mean = 3.1  \n",
    "sample_std = 0.7    \n",
    "n = 100            \n",
    "confidence_level = 0.95\n",
    "\n",
    "# free level\n",
    "df = n - 1\n",
    "\n",
    "# Using t table\n",
    "t_critical = t.ppf((1 + confidence_level) / 2, df)\n",
    "\n",
    "# Calculate std\n",
    "standard_error = sample_std / np.sqrt(n)\n",
    "\n",
    "# Calculate confience level\n",
    "confidence_interval = (sample_mean - t_critical * standard_error, \n",
    "                       sample_mean + t_critical * standard_error)\n",
    "\n",
    "print(f\"Confidence interval = [{confidence_interval[0]:.2f}, {confidence_interval[1]:.2f}] [m]\")\n"
   ]
  },
  {
   "cell_type": "markdown",
   "metadata": {},
   "source": [
    "<font face='serif' size=4>\n",
    "<span style=\"line-height: 1.25;\">\n",
    "\n",
    "#### b. 區間 [2.96, 3.24] 是否有 0.95 的機率涵蓋真實的平均數？"
   ]
  },
  {
   "cell_type": "markdown",
   "metadata": {},
   "source": [
    "<font face='serif' size=4>\n",
    "<span style=\"line-height: 1.25;\">\n",
    "\n",
    "當我們說一個95%的信賴區間為 [2.96, 3.24]，這並不代表這個區間有 95% 的機率包含真實的平均高度。這個 95% 的信賴區間是基於抽樣分布的概念，這意味著如果我們進行很多次獨立的相同實驗，則其中 95% 的實驗將會計算出包含真實平均數的信賴區間。\n",
    "\n",
    "信賴區間並不直接給出單次估計中包含參數真實值的機率。它反映的是我們的估計方法的可靠性。如果方法可靠，並且我們假設所有的統計假設都被滿足（例如，樣本是隨機抽取的，觀測是獨立的，數據遵循常態分布等），則我們可以相信在類似條件下重複抽樣與計算信賴區間多次，大約有 95% 的信賴區間會包含母體參數。\n",
    "\n",
    "為了計算信賴區間，通常需要知道樣本大小 （$n$），樣本平均（$\\bar{x}$），樣本標準差（$S$），並根據樣本大小決定使用 z-table (n>30) 或 t-table (n<30)。信賴區間可以用來推斷平均樹高的真實值，但它不代表該區間有95%的概率實際包含了真實的平均樹高。"
   ]
  },
  {
   "cell_type": "markdown",
   "metadata": {},
   "source": [
    "<font face='serif' size=4>\n",
    "<span style=\"line-height: 1.25;\">\n",
    "\n",
    "### 4.3 \n",
    "\n",
    "某飲料機之平均分配量為 240 c.c.，標準差 15 c.c.，每隔一段時間，從機器抽出 40 杯作為樣品，並計算平均含量。若此 40 杯的平均含量落在區間內 $\\mu_{\\bar{𝑋}} ± 2\\sigma_{\\bar{𝑋}}$ ，則認為此機器操作良好，否則，必須調整。某公司職員求得 40 杯的平均數為 $\\bar 𝑋 =236$ c.c.，同時推斷此機器不需調整。此推斷是否合理? \n"
   ]
  },
  {
   "cell_type": "code",
   "execution_count": 6,
   "metadata": {},
   "outputs": [
    {
     "name": "stdout",
     "output_type": "stream",
     "text": [
      "Sample mean = 236 [c.c.]\n",
      "Standard error = 2.37 [c.c]\n",
      "Mean range = [235.26, 244.74] [c.c.]\n",
      "Is sample mean in the range?  True\n"
     ]
    }
   ],
   "source": [
    "# Given data\n",
    "population_mean = 240  # mu\n",
    "population_std = 15    # sigma\n",
    "sample_size = 40       # sample size\n",
    "sample_mean = 236      # x bar\n",
    "\n",
    "# Calculate standar error\n",
    "standard_error = population_std / np.sqrt(sample_size)\n",
    "\n",
    "# Calculate mean range $\\mu_{\\bar{𝑋}} ± 2\\sigma_{\\bar{𝑋}}$\n",
    "mean_range = (population_mean - 2 * standard_error, population_mean + 2 * standard_error)\n",
    "\n",
    "# Check if the sample mean falls in the range\n",
    "is_within_range = mean_range[0] <= sample_mean <= mean_range[1]\n",
    "\n",
    "(standard_error, mean_range, is_within_range)\n",
    "\n",
    "print(f\"Sample mean = {sample_mean} [c.c.]\")\n",
    "print(f\"Standard error = {standard_error:.2f} [c.c]\")\n",
    "print(f\"Mean range = [{mean_range[0]:.2f}, {mean_range[1]:.2f}] [c.c.]\")\n",
    "print(f\"Is sample mean in the range?  {is_within_range}\")"
   ]
  },
  {
   "cell_type": "markdown",
   "metadata": {},
   "source": [
    "<font face='serif' size=4>\n",
    "<span style=\"line-height: 1.25;\">\n",
    "\n",
    "#### Answer\n",
    "經過計算，此推斷合理。"
   ]
  }
 ],
 "metadata": {
  "kernelspec": {
   "display_name": "base",
   "language": "python",
   "name": "python3"
  },
  "language_info": {
   "codemirror_mode": {
    "name": "ipython",
    "version": 3
   },
   "file_extension": ".py",
   "mimetype": "text/x-python",
   "name": "python",
   "nbconvert_exporter": "python",
   "pygments_lexer": "ipython3",
   "version": "3.10.13"
  }
 },
 "nbformat": 4,
 "nbformat_minor": 2
}
